{
 "cells": [
  {
   "cell_type": "markdown",
   "id": "aa0d34a7",
   "metadata": {},
   "source": [
    "# Preprocessing"
   ]
  },
  {
   "cell_type": "markdown",
   "id": "5673a514",
   "metadata": {},
   "source": [
    "## Exploring Data"
   ]
  },
  {
   "cell_type": "markdown",
   "id": "452aa465",
   "metadata": {},
   "source": [
    "* We start by importing libraries and data into our notebook"
   ]
  },
  {
   "cell_type": "code",
   "execution_count": 1,
   "id": "1ba5edad",
   "metadata": {},
   "outputs": [],
   "source": [
    "import numpy as np\n",
    "import pandas as pd\n",
    "import seaborn as sns"
   ]
  },
  {
   "cell_type": "code",
   "execution_count": 2,
   "id": "471be588",
   "metadata": {},
   "outputs": [],
   "source": [
    "df = pd.read_csv('/Users/rahulwankhade/Downloads/ML case Study.csv', header = 0)"
   ]
  },
  {
   "cell_type": "code",
   "execution_count": 3,
   "id": "74508434",
   "metadata": {
    "scrolled": true
   },
   "outputs": [
    {
     "data": {
      "text/html": [
       "<div>\n",
       "<style scoped>\n",
       "    .dataframe tbody tr th:only-of-type {\n",
       "        vertical-align: middle;\n",
       "    }\n",
       "\n",
       "    .dataframe tbody tr th {\n",
       "        vertical-align: top;\n",
       "    }\n",
       "\n",
       "    .dataframe thead th {\n",
       "        text-align: right;\n",
       "    }\n",
       "</style>\n",
       "<table border=\"1\" class=\"dataframe\">\n",
       "  <thead>\n",
       "    <tr style=\"text-align: right;\">\n",
       "      <th></th>\n",
       "      <th>College</th>\n",
       "      <th>City</th>\n",
       "      <th>Role</th>\n",
       "      <th>Previous CTC</th>\n",
       "      <th>Previous job change</th>\n",
       "      <th>Graduation Marks</th>\n",
       "      <th>EXP (Month)</th>\n",
       "      <th>CTC</th>\n",
       "    </tr>\n",
       "  </thead>\n",
       "  <tbody>\n",
       "    <tr>\n",
       "      <th>0</th>\n",
       "      <td>SVNIT Surat</td>\n",
       "      <td>Asansol</td>\n",
       "      <td>Manager</td>\n",
       "      <td>55523.0</td>\n",
       "      <td>3</td>\n",
       "      <td>66</td>\n",
       "      <td>19</td>\n",
       "      <td>71406.58</td>\n",
       "    </tr>\n",
       "    <tr>\n",
       "      <th>1</th>\n",
       "      <td>NIT Bhopal</td>\n",
       "      <td>Ajmer</td>\n",
       "      <td>Executive</td>\n",
       "      <td>57081.0</td>\n",
       "      <td>1</td>\n",
       "      <td>84</td>\n",
       "      <td>18</td>\n",
       "      <td>68005.87</td>\n",
       "    </tr>\n",
       "    <tr>\n",
       "      <th>2</th>\n",
       "      <td>IEM, Kolkata</td>\n",
       "      <td>Rajpur Sonarpur</td>\n",
       "      <td>Executive</td>\n",
       "      <td>60347.0</td>\n",
       "      <td>2</td>\n",
       "      <td>52</td>\n",
       "      <td>28</td>\n",
       "      <td>76764.02</td>\n",
       "    </tr>\n",
       "    <tr>\n",
       "      <th>3</th>\n",
       "      <td>KIIT, Bhubaneswar</td>\n",
       "      <td>Ajmer</td>\n",
       "      <td>Executive</td>\n",
       "      <td>49010.0</td>\n",
       "      <td>2</td>\n",
       "      <td>81</td>\n",
       "      <td>33</td>\n",
       "      <td>82092.39</td>\n",
       "    </tr>\n",
       "    <tr>\n",
       "      <th>4</th>\n",
       "      <td>DTU</td>\n",
       "      <td>Durgapur</td>\n",
       "      <td>Executive</td>\n",
       "      <td>57879.0</td>\n",
       "      <td>4</td>\n",
       "      <td>74</td>\n",
       "      <td>32</td>\n",
       "      <td>73878.10</td>\n",
       "    </tr>\n",
       "  </tbody>\n",
       "</table>\n",
       "</div>"
      ],
      "text/plain": [
       "             College             City       Role  Previous CTC  \\\n",
       "0        SVNIT Surat          Asansol    Manager       55523.0   \n",
       "1         NIT Bhopal            Ajmer  Executive       57081.0   \n",
       "2       IEM, Kolkata  Rajpur Sonarpur  Executive       60347.0   \n",
       "3  KIIT, Bhubaneswar            Ajmer  Executive       49010.0   \n",
       "4                DTU         Durgapur  Executive       57879.0   \n",
       "\n",
       "   Previous job change  Graduation Marks  EXP (Month)       CTC  \n",
       "0                    3                66           19  71406.58  \n",
       "1                    1                84           18  68005.87  \n",
       "2                    2                52           28  76764.02  \n",
       "3                    2                81           33  82092.39  \n",
       "4                    4                74           32  73878.10  "
      ]
     },
     "execution_count": 3,
     "metadata": {},
     "output_type": "execute_result"
    }
   ],
   "source": [
    "df.head()"
   ]
  },
  {
   "cell_type": "code",
   "execution_count": 4,
   "id": "f3b0a222",
   "metadata": {},
   "outputs": [
    {
     "data": {
      "text/plain": [
       "(1589, 8)"
      ]
     },
     "execution_count": 4,
     "metadata": {},
     "output_type": "execute_result"
    }
   ],
   "source": [
    "df.shape"
   ]
  },
  {
   "cell_type": "code",
   "execution_count": 5,
   "id": "03958de1",
   "metadata": {},
   "outputs": [
    {
     "data": {
      "text/html": [
       "<div>\n",
       "<style scoped>\n",
       "    .dataframe tbody tr th:only-of-type {\n",
       "        vertical-align: middle;\n",
       "    }\n",
       "\n",
       "    .dataframe tbody tr th {\n",
       "        vertical-align: top;\n",
       "    }\n",
       "\n",
       "    .dataframe thead th {\n",
       "        text-align: right;\n",
       "    }\n",
       "</style>\n",
       "<table border=\"1\" class=\"dataframe\">\n",
       "  <thead>\n",
       "    <tr style=\"text-align: right;\">\n",
       "      <th></th>\n",
       "      <th>Previous CTC</th>\n",
       "      <th>Previous job change</th>\n",
       "      <th>Graduation Marks</th>\n",
       "      <th>EXP (Month)</th>\n",
       "      <th>CTC</th>\n",
       "    </tr>\n",
       "  </thead>\n",
       "  <tbody>\n",
       "    <tr>\n",
       "      <th>count</th>\n",
       "      <td>1589.000000</td>\n",
       "      <td>1589.000000</td>\n",
       "      <td>1589.000000</td>\n",
       "      <td>1589.000000</td>\n",
       "      <td>1589.000000</td>\n",
       "    </tr>\n",
       "    <tr>\n",
       "      <th>mean</th>\n",
       "      <td>55518.453744</td>\n",
       "      <td>2.528634</td>\n",
       "      <td>59.855255</td>\n",
       "      <td>39.044682</td>\n",
       "      <td>75353.278798</td>\n",
       "    </tr>\n",
       "    <tr>\n",
       "      <th>std</th>\n",
       "      <td>6655.218445</td>\n",
       "      <td>1.123918</td>\n",
       "      <td>14.935139</td>\n",
       "      <td>14.108875</td>\n",
       "      <td>12587.288237</td>\n",
       "    </tr>\n",
       "    <tr>\n",
       "      <th>min</th>\n",
       "      <td>36990.000000</td>\n",
       "      <td>1.000000</td>\n",
       "      <td>35.000000</td>\n",
       "      <td>18.000000</td>\n",
       "      <td>53020.320000</td>\n",
       "    </tr>\n",
       "    <tr>\n",
       "      <th>25%</th>\n",
       "      <td>50518.000000</td>\n",
       "      <td>2.000000</td>\n",
       "      <td>46.000000</td>\n",
       "      <td>26.000000</td>\n",
       "      <td>66902.350000</td>\n",
       "    </tr>\n",
       "    <tr>\n",
       "      <th>50%</th>\n",
       "      <td>55291.000000</td>\n",
       "      <td>3.000000</td>\n",
       "      <td>60.000000</td>\n",
       "      <td>39.000000</td>\n",
       "      <td>73028.670000</td>\n",
       "    </tr>\n",
       "    <tr>\n",
       "      <th>75%</th>\n",
       "      <td>60109.000000</td>\n",
       "      <td>4.000000</td>\n",
       "      <td>73.000000</td>\n",
       "      <td>51.000000</td>\n",
       "      <td>80588.670000</td>\n",
       "    </tr>\n",
       "    <tr>\n",
       "      <th>max</th>\n",
       "      <td>77911.000000</td>\n",
       "      <td>4.000000</td>\n",
       "      <td>85.000000</td>\n",
       "      <td>64.000000</td>\n",
       "      <td>123416.990000</td>\n",
       "    </tr>\n",
       "  </tbody>\n",
       "</table>\n",
       "</div>"
      ],
      "text/plain": [
       "       Previous CTC  Previous job change  Graduation Marks  EXP (Month)  \\\n",
       "count   1589.000000          1589.000000       1589.000000  1589.000000   \n",
       "mean   55518.453744             2.528634         59.855255    39.044682   \n",
       "std     6655.218445             1.123918         14.935139    14.108875   \n",
       "min    36990.000000             1.000000         35.000000    18.000000   \n",
       "25%    50518.000000             2.000000         46.000000    26.000000   \n",
       "50%    55291.000000             3.000000         60.000000    39.000000   \n",
       "75%    60109.000000             4.000000         73.000000    51.000000   \n",
       "max    77911.000000             4.000000         85.000000    64.000000   \n",
       "\n",
       "                 CTC  \n",
       "count    1589.000000  \n",
       "mean    75353.278798  \n",
       "std     12587.288237  \n",
       "min     53020.320000  \n",
       "25%     66902.350000  \n",
       "50%     73028.670000  \n",
       "75%     80588.670000  \n",
       "max    123416.990000  "
      ]
     },
     "execution_count": 5,
     "metadata": {},
     "output_type": "execute_result"
    }
   ],
   "source": [
    "df.describe()"
   ]
  },
  {
   "cell_type": "markdown",
   "id": "1405e287",
   "metadata": {},
   "source": [
    "* Now we need to load college data and city data and sort them."
   ]
  },
  {
   "cell_type": "code",
   "execution_count": 6,
   "id": "069c01a8",
   "metadata": {},
   "outputs": [],
   "source": [
    "college = pd.read_csv('/Users/rahulwankhade/Downloads/Colleges.csv', header = 0)"
   ]
  },
  {
   "cell_type": "code",
   "execution_count": 7,
   "id": "fb924b97",
   "metadata": {},
   "outputs": [
    {
     "data": {
      "text/html": [
       "<div>\n",
       "<style scoped>\n",
       "    .dataframe tbody tr th:only-of-type {\n",
       "        vertical-align: middle;\n",
       "    }\n",
       "\n",
       "    .dataframe tbody tr th {\n",
       "        vertical-align: top;\n",
       "    }\n",
       "\n",
       "    .dataframe thead th {\n",
       "        text-align: right;\n",
       "    }\n",
       "</style>\n",
       "<table border=\"1\" class=\"dataframe\">\n",
       "  <thead>\n",
       "    <tr style=\"text-align: right;\">\n",
       "      <th></th>\n",
       "      <th>Tier 1</th>\n",
       "      <th>Tier 2</th>\n",
       "      <th>Tier 3</th>\n",
       "    </tr>\n",
       "  </thead>\n",
       "  <tbody>\n",
       "    <tr>\n",
       "      <th>0</th>\n",
       "      <td>IIT Bombay</td>\n",
       "      <td>IIIT Bangalore</td>\n",
       "      <td>Ramaiah Institute of Technology, Bengaluru</td>\n",
       "    </tr>\n",
       "    <tr>\n",
       "      <th>1</th>\n",
       "      <td>IIT Delhi</td>\n",
       "      <td>IIIT Delhi</td>\n",
       "      <td>TIET/Thapar University</td>\n",
       "    </tr>\n",
       "    <tr>\n",
       "      <th>2</th>\n",
       "      <td>IIT Kharagpur</td>\n",
       "      <td>IGDTUW</td>\n",
       "      <td>Manipal Main Campus</td>\n",
       "    </tr>\n",
       "    <tr>\n",
       "      <th>3</th>\n",
       "      <td>IIT Madras</td>\n",
       "      <td>NIT Calicut</td>\n",
       "      <td>VIT Vellore</td>\n",
       "    </tr>\n",
       "    <tr>\n",
       "      <th>4</th>\n",
       "      <td>IIT Kanpur</td>\n",
       "      <td>IIITM Gwalior</td>\n",
       "      <td>SRM Main Campus</td>\n",
       "    </tr>\n",
       "  </tbody>\n",
       "</table>\n",
       "</div>"
      ],
      "text/plain": [
       "          Tier 1          Tier 2                                      Tier 3\n",
       "0     IIT Bombay  IIIT Bangalore  Ramaiah Institute of Technology, Bengaluru\n",
       "1      IIT Delhi      IIIT Delhi                      TIET/Thapar University\n",
       "2  IIT Kharagpur          IGDTUW                         Manipal Main Campus\n",
       "3     IIT Madras     NIT Calicut                                 VIT Vellore\n",
       "4     IIT Kanpur   IIITM Gwalior                             SRM Main Campus"
      ]
     },
     "execution_count": 7,
     "metadata": {},
     "output_type": "execute_result"
    }
   ],
   "source": [
    "college.head()"
   ]
  },
  {
   "cell_type": "code",
   "execution_count": 8,
   "id": "1be1983d",
   "metadata": {},
   "outputs": [],
   "source": [
    "Tier1 = college[\"Tier 1\"].tolist()\n",
    "Tier2= college[\"Tier 2\"].tolist()\n",
    "Tier3= college[\"Tier 3\"].tolist()"
   ]
  },
  {
   "cell_type": "code",
   "execution_count": 9,
   "id": "1fabab3b",
   "metadata": {},
   "outputs": [
    {
     "data": {
      "text/plain": [
       "['IIT Bombay',\n",
       " 'IIT Delhi',\n",
       " 'IIT Kharagpur',\n",
       " 'IIT Madras',\n",
       " 'IIT Kanpur',\n",
       " 'IIT Roorkee',\n",
       " 'IIT Guwahati',\n",
       " 'IIIT Hyderabad',\n",
       " 'BITS Pilani (Pilani Campus)',\n",
       " 'IIT Indore',\n",
       " 'IIT Ropar',\n",
       " 'IIT BHU (Varanasi)',\n",
       " 'IIT ISM Dhanbad',\n",
       " 'DTU',\n",
       " 'NSUT Delhi (NSIT)',\n",
       " 'NIT Tiruchipally (Trichy)',\n",
       " 'NIT Warangal',\n",
       " 'NIT Surathkal (Karnataka)',\n",
       " 'Jadavpur University',\n",
       " 'BITS Pilani (Hyderabad Campus)',\n",
       " 'BITS Pilani (Goa Campus)',\n",
       " 'IIIT Allahabad',\n",
       " nan,\n",
       " nan,\n",
       " nan,\n",
       " nan,\n",
       " nan,\n",
       " nan]"
      ]
     },
     "execution_count": 9,
     "metadata": {},
     "output_type": "execute_result"
    }
   ],
   "source": [
    "Tier1"
   ]
  },
  {
   "cell_type": "code",
   "execution_count": 10,
   "id": "65da4ac7",
   "metadata": {
    "scrolled": true
   },
   "outputs": [],
   "source": [
    "for item in df.College:\n",
    "    if item in Tier1:\n",
    "        df[\"College\"].replace(item,1,inplace=True)\n",
    "    elif item in Tier2:\n",
    "        df[\"College\"].replace(item,2,inplace=True)\n",
    "    elif item in Tier3:\n",
    "        df[\"College\"].replace(item,3,inplace=True)\n",
    "        "
   ]
  },
  {
   "cell_type": "code",
   "execution_count": 11,
   "id": "9a783f0e",
   "metadata": {},
   "outputs": [
    {
     "data": {
      "text/html": [
       "<div>\n",
       "<style scoped>\n",
       "    .dataframe tbody tr th:only-of-type {\n",
       "        vertical-align: middle;\n",
       "    }\n",
       "\n",
       "    .dataframe tbody tr th {\n",
       "        vertical-align: top;\n",
       "    }\n",
       "\n",
       "    .dataframe thead th {\n",
       "        text-align: right;\n",
       "    }\n",
       "</style>\n",
       "<table border=\"1\" class=\"dataframe\">\n",
       "  <thead>\n",
       "    <tr style=\"text-align: right;\">\n",
       "      <th></th>\n",
       "      <th>College</th>\n",
       "      <th>City</th>\n",
       "      <th>Role</th>\n",
       "      <th>Previous CTC</th>\n",
       "      <th>Previous job change</th>\n",
       "      <th>Graduation Marks</th>\n",
       "      <th>EXP (Month)</th>\n",
       "      <th>CTC</th>\n",
       "    </tr>\n",
       "  </thead>\n",
       "  <tbody>\n",
       "    <tr>\n",
       "      <th>0</th>\n",
       "      <td>2</td>\n",
       "      <td>Asansol</td>\n",
       "      <td>Manager</td>\n",
       "      <td>55523.0</td>\n",
       "      <td>3</td>\n",
       "      <td>66</td>\n",
       "      <td>19</td>\n",
       "      <td>71406.58</td>\n",
       "    </tr>\n",
       "    <tr>\n",
       "      <th>1</th>\n",
       "      <td>2</td>\n",
       "      <td>Ajmer</td>\n",
       "      <td>Executive</td>\n",
       "      <td>57081.0</td>\n",
       "      <td>1</td>\n",
       "      <td>84</td>\n",
       "      <td>18</td>\n",
       "      <td>68005.87</td>\n",
       "    </tr>\n",
       "    <tr>\n",
       "      <th>2</th>\n",
       "      <td>3</td>\n",
       "      <td>Rajpur Sonarpur</td>\n",
       "      <td>Executive</td>\n",
       "      <td>60347.0</td>\n",
       "      <td>2</td>\n",
       "      <td>52</td>\n",
       "      <td>28</td>\n",
       "      <td>76764.02</td>\n",
       "    </tr>\n",
       "    <tr>\n",
       "      <th>3</th>\n",
       "      <td>3</td>\n",
       "      <td>Ajmer</td>\n",
       "      <td>Executive</td>\n",
       "      <td>49010.0</td>\n",
       "      <td>2</td>\n",
       "      <td>81</td>\n",
       "      <td>33</td>\n",
       "      <td>82092.39</td>\n",
       "    </tr>\n",
       "    <tr>\n",
       "      <th>4</th>\n",
       "      <td>1</td>\n",
       "      <td>Durgapur</td>\n",
       "      <td>Executive</td>\n",
       "      <td>57879.0</td>\n",
       "      <td>4</td>\n",
       "      <td>74</td>\n",
       "      <td>32</td>\n",
       "      <td>73878.10</td>\n",
       "    </tr>\n",
       "    <tr>\n",
       "      <th>5</th>\n",
       "      <td>2</td>\n",
       "      <td>Kolhapur</td>\n",
       "      <td>Executive</td>\n",
       "      <td>54340.0</td>\n",
       "      <td>4</td>\n",
       "      <td>73</td>\n",
       "      <td>31</td>\n",
       "      <td>59950.89</td>\n",
       "    </tr>\n",
       "    <tr>\n",
       "      <th>6</th>\n",
       "      <td>3</td>\n",
       "      <td>Surat</td>\n",
       "      <td>Executive</td>\n",
       "      <td>60298.0</td>\n",
       "      <td>1</td>\n",
       "      <td>42</td>\n",
       "      <td>46</td>\n",
       "      <td>66602.34</td>\n",
       "    </tr>\n",
       "    <tr>\n",
       "      <th>7</th>\n",
       "      <td>2</td>\n",
       "      <td>Delhi</td>\n",
       "      <td>Executive</td>\n",
       "      <td>49944.0</td>\n",
       "      <td>2</td>\n",
       "      <td>56</td>\n",
       "      <td>37</td>\n",
       "      <td>57768.44</td>\n",
       "    </tr>\n",
       "    <tr>\n",
       "      <th>8</th>\n",
       "      <td>3</td>\n",
       "      <td>Chennai</td>\n",
       "      <td>Executive</td>\n",
       "      <td>53124.0</td>\n",
       "      <td>4</td>\n",
       "      <td>40</td>\n",
       "      <td>37</td>\n",
       "      <td>70083.30</td>\n",
       "    </tr>\n",
       "    <tr>\n",
       "      <th>9</th>\n",
       "      <td>1</td>\n",
       "      <td>Kolhapur</td>\n",
       "      <td>Executive</td>\n",
       "      <td>51141.0</td>\n",
       "      <td>1</td>\n",
       "      <td>47</td>\n",
       "      <td>60</td>\n",
       "      <td>85648.48</td>\n",
       "    </tr>\n",
       "  </tbody>\n",
       "</table>\n",
       "</div>"
      ],
      "text/plain": [
       "   College             City       Role  Previous CTC  Previous job change  \\\n",
       "0        2          Asansol    Manager       55523.0                    3   \n",
       "1        2            Ajmer  Executive       57081.0                    1   \n",
       "2        3  Rajpur Sonarpur  Executive       60347.0                    2   \n",
       "3        3            Ajmer  Executive       49010.0                    2   \n",
       "4        1         Durgapur  Executive       57879.0                    4   \n",
       "5        2         Kolhapur  Executive       54340.0                    4   \n",
       "6        3            Surat  Executive       60298.0                    1   \n",
       "7        2            Delhi  Executive       49944.0                    2   \n",
       "8        3          Chennai  Executive       53124.0                    4   \n",
       "9        1         Kolhapur  Executive       51141.0                    1   \n",
       "\n",
       "   Graduation Marks  EXP (Month)       CTC  \n",
       "0                66           19  71406.58  \n",
       "1                84           18  68005.87  \n",
       "2                52           28  76764.02  \n",
       "3                81           33  82092.39  \n",
       "4                74           32  73878.10  \n",
       "5                73           31  59950.89  \n",
       "6                42           46  66602.34  \n",
       "7                56           37  57768.44  \n",
       "8                40           37  70083.30  \n",
       "9                47           60  85648.48  "
      ]
     },
     "execution_count": 11,
     "metadata": {},
     "output_type": "execute_result"
    }
   ],
   "source": [
    "df.head(10)"
   ]
  },
  {
   "cell_type": "code",
   "execution_count": 12,
   "id": "c944d0b6",
   "metadata": {},
   "outputs": [],
   "source": [
    "city = pd.read_csv('/Users/rahulwankhade/Downloads/cities.csv', header=0)"
   ]
  },
  {
   "cell_type": "code",
   "execution_count": 13,
   "id": "052dfbcf",
   "metadata": {},
   "outputs": [
    {
     "data": {
      "text/html": [
       "<div>\n",
       "<style scoped>\n",
       "    .dataframe tbody tr th:only-of-type {\n",
       "        vertical-align: middle;\n",
       "    }\n",
       "\n",
       "    .dataframe tbody tr th {\n",
       "        vertical-align: top;\n",
       "    }\n",
       "\n",
       "    .dataframe thead th {\n",
       "        text-align: right;\n",
       "    }\n",
       "</style>\n",
       "<table border=\"1\" class=\"dataframe\">\n",
       "  <thead>\n",
       "    <tr style=\"text-align: right;\">\n",
       "      <th></th>\n",
       "      <th>Metrio City</th>\n",
       "      <th>non-metro cities</th>\n",
       "    </tr>\n",
       "  </thead>\n",
       "  <tbody>\n",
       "    <tr>\n",
       "      <th>0</th>\n",
       "      <td>Mumbai</td>\n",
       "      <td>Dehradun</td>\n",
       "    </tr>\n",
       "    <tr>\n",
       "      <th>1</th>\n",
       "      <td>Delhi</td>\n",
       "      <td>Durgapur</td>\n",
       "    </tr>\n",
       "    <tr>\n",
       "      <th>2</th>\n",
       "      <td>Kolkata</td>\n",
       "      <td>Asansol</td>\n",
       "    </tr>\n",
       "    <tr>\n",
       "      <th>3</th>\n",
       "      <td>Chennai</td>\n",
       "      <td>Rourkela</td>\n",
       "    </tr>\n",
       "    <tr>\n",
       "      <th>4</th>\n",
       "      <td>Bangalore</td>\n",
       "      <td>Kozhikode</td>\n",
       "    </tr>\n",
       "  </tbody>\n",
       "</table>\n",
       "</div>"
      ],
      "text/plain": [
       "  Metrio City non-metro cities\n",
       "0      Mumbai         Dehradun\n",
       "1       Delhi         Durgapur\n",
       "2     Kolkata          Asansol\n",
       "3     Chennai         Rourkela\n",
       "4   Bangalore        Kozhikode"
      ]
     },
     "execution_count": 13,
     "metadata": {},
     "output_type": "execute_result"
    }
   ],
   "source": [
    "city.head()"
   ]
  },
  {
   "cell_type": "code",
   "execution_count": 14,
   "id": "3762c416",
   "metadata": {},
   "outputs": [],
   "source": [
    "metro = city[\"Metrio City\"].tolist()\n",
    "non_metro = city[\"non-metro cities\"].tolist()"
   ]
  },
  {
   "cell_type": "code",
   "execution_count": 15,
   "id": "9476ef81",
   "metadata": {},
   "outputs": [
    {
     "data": {
      "text/plain": [
       "['Mumbai',\n",
       " 'Delhi',\n",
       " 'Kolkata',\n",
       " 'Chennai',\n",
       " 'Bangalore',\n",
       " 'Hyderabad',\n",
       " 'Ahmedabad',\n",
       " 'Pune',\n",
       " 'Surat']"
      ]
     },
     "execution_count": 15,
     "metadata": {},
     "output_type": "execute_result"
    }
   ],
   "source": [
    "metro"
   ]
  },
  {
   "cell_type": "code",
   "execution_count": 16,
   "id": "edc987da",
   "metadata": {},
   "outputs": [],
   "source": [
    "for item in df.City:\n",
    "    if item in metro:\n",
    "        df[\"City\"].replace(item, 'metro',inplace=True)\n",
    "    elif item in non_metro:\n",
    "        df[\"City\"].replace(item,'non_metro',inplace=True)"
   ]
  },
  {
   "cell_type": "code",
   "execution_count": 17,
   "id": "49c4a58f",
   "metadata": {},
   "outputs": [
    {
     "data": {
      "text/html": [
       "<div>\n",
       "<style scoped>\n",
       "    .dataframe tbody tr th:only-of-type {\n",
       "        vertical-align: middle;\n",
       "    }\n",
       "\n",
       "    .dataframe tbody tr th {\n",
       "        vertical-align: top;\n",
       "    }\n",
       "\n",
       "    .dataframe thead th {\n",
       "        text-align: right;\n",
       "    }\n",
       "</style>\n",
       "<table border=\"1\" class=\"dataframe\">\n",
       "  <thead>\n",
       "    <tr style=\"text-align: right;\">\n",
       "      <th></th>\n",
       "      <th>College</th>\n",
       "      <th>City</th>\n",
       "      <th>Role</th>\n",
       "      <th>Previous CTC</th>\n",
       "      <th>Previous job change</th>\n",
       "      <th>Graduation Marks</th>\n",
       "      <th>EXP (Month)</th>\n",
       "      <th>CTC</th>\n",
       "    </tr>\n",
       "  </thead>\n",
       "  <tbody>\n",
       "    <tr>\n",
       "      <th>0</th>\n",
       "      <td>2</td>\n",
       "      <td>non_metro</td>\n",
       "      <td>Manager</td>\n",
       "      <td>55523.0</td>\n",
       "      <td>3</td>\n",
       "      <td>66</td>\n",
       "      <td>19</td>\n",
       "      <td>71406.58</td>\n",
       "    </tr>\n",
       "    <tr>\n",
       "      <th>1</th>\n",
       "      <td>2</td>\n",
       "      <td>non_metro</td>\n",
       "      <td>Executive</td>\n",
       "      <td>57081.0</td>\n",
       "      <td>1</td>\n",
       "      <td>84</td>\n",
       "      <td>18</td>\n",
       "      <td>68005.87</td>\n",
       "    </tr>\n",
       "    <tr>\n",
       "      <th>2</th>\n",
       "      <td>3</td>\n",
       "      <td>non_metro</td>\n",
       "      <td>Executive</td>\n",
       "      <td>60347.0</td>\n",
       "      <td>2</td>\n",
       "      <td>52</td>\n",
       "      <td>28</td>\n",
       "      <td>76764.02</td>\n",
       "    </tr>\n",
       "    <tr>\n",
       "      <th>3</th>\n",
       "      <td>3</td>\n",
       "      <td>non_metro</td>\n",
       "      <td>Executive</td>\n",
       "      <td>49010.0</td>\n",
       "      <td>2</td>\n",
       "      <td>81</td>\n",
       "      <td>33</td>\n",
       "      <td>82092.39</td>\n",
       "    </tr>\n",
       "    <tr>\n",
       "      <th>4</th>\n",
       "      <td>1</td>\n",
       "      <td>non_metro</td>\n",
       "      <td>Executive</td>\n",
       "      <td>57879.0</td>\n",
       "      <td>4</td>\n",
       "      <td>74</td>\n",
       "      <td>32</td>\n",
       "      <td>73878.10</td>\n",
       "    </tr>\n",
       "    <tr>\n",
       "      <th>5</th>\n",
       "      <td>2</td>\n",
       "      <td>non_metro</td>\n",
       "      <td>Executive</td>\n",
       "      <td>54340.0</td>\n",
       "      <td>4</td>\n",
       "      <td>73</td>\n",
       "      <td>31</td>\n",
       "      <td>59950.89</td>\n",
       "    </tr>\n",
       "    <tr>\n",
       "      <th>6</th>\n",
       "      <td>3</td>\n",
       "      <td>metro</td>\n",
       "      <td>Executive</td>\n",
       "      <td>60298.0</td>\n",
       "      <td>1</td>\n",
       "      <td>42</td>\n",
       "      <td>46</td>\n",
       "      <td>66602.34</td>\n",
       "    </tr>\n",
       "    <tr>\n",
       "      <th>7</th>\n",
       "      <td>2</td>\n",
       "      <td>metro</td>\n",
       "      <td>Executive</td>\n",
       "      <td>49944.0</td>\n",
       "      <td>2</td>\n",
       "      <td>56</td>\n",
       "      <td>37</td>\n",
       "      <td>57768.44</td>\n",
       "    </tr>\n",
       "    <tr>\n",
       "      <th>8</th>\n",
       "      <td>3</td>\n",
       "      <td>metro</td>\n",
       "      <td>Executive</td>\n",
       "      <td>53124.0</td>\n",
       "      <td>4</td>\n",
       "      <td>40</td>\n",
       "      <td>37</td>\n",
       "      <td>70083.30</td>\n",
       "    </tr>\n",
       "    <tr>\n",
       "      <th>9</th>\n",
       "      <td>1</td>\n",
       "      <td>non_metro</td>\n",
       "      <td>Executive</td>\n",
       "      <td>51141.0</td>\n",
       "      <td>1</td>\n",
       "      <td>47</td>\n",
       "      <td>60</td>\n",
       "      <td>85648.48</td>\n",
       "    </tr>\n",
       "  </tbody>\n",
       "</table>\n",
       "</div>"
      ],
      "text/plain": [
       "   College       City       Role  Previous CTC  Previous job change  \\\n",
       "0        2  non_metro    Manager       55523.0                    3   \n",
       "1        2  non_metro  Executive       57081.0                    1   \n",
       "2        3  non_metro  Executive       60347.0                    2   \n",
       "3        3  non_metro  Executive       49010.0                    2   \n",
       "4        1  non_metro  Executive       57879.0                    4   \n",
       "5        2  non_metro  Executive       54340.0                    4   \n",
       "6        3      metro  Executive       60298.0                    1   \n",
       "7        2      metro  Executive       49944.0                    2   \n",
       "8        3      metro  Executive       53124.0                    4   \n",
       "9        1  non_metro  Executive       51141.0                    1   \n",
       "\n",
       "   Graduation Marks  EXP (Month)       CTC  \n",
       "0                66           19  71406.58  \n",
       "1                84           18  68005.87  \n",
       "2                52           28  76764.02  \n",
       "3                81           33  82092.39  \n",
       "4                74           32  73878.10  \n",
       "5                73           31  59950.89  \n",
       "6                42           46  66602.34  \n",
       "7                56           37  57768.44  \n",
       "8                40           37  70083.30  \n",
       "9                47           60  85648.48  "
      ]
     },
     "execution_count": 17,
     "metadata": {},
     "output_type": "execute_result"
    }
   ],
   "source": [
    "df.head(10)"
   ]
  },
  {
   "cell_type": "code",
   "execution_count": 18,
   "id": "391d895e",
   "metadata": {},
   "outputs": [
    {
     "data": {
      "text/plain": [
       "(1589, 8)"
      ]
     },
     "execution_count": 18,
     "metadata": {},
     "output_type": "execute_result"
    }
   ],
   "source": [
    "df.shape"
   ]
  },
  {
   "cell_type": "code",
   "execution_count": 19,
   "id": "dc83321a",
   "metadata": {},
   "outputs": [
    {
     "data": {
      "text/html": [
       "<div>\n",
       "<style scoped>\n",
       "    .dataframe tbody tr th:only-of-type {\n",
       "        vertical-align: middle;\n",
       "    }\n",
       "\n",
       "    .dataframe tbody tr th {\n",
       "        vertical-align: top;\n",
       "    }\n",
       "\n",
       "    .dataframe thead th {\n",
       "        text-align: right;\n",
       "    }\n",
       "</style>\n",
       "<table border=\"1\" class=\"dataframe\">\n",
       "  <thead>\n",
       "    <tr style=\"text-align: right;\">\n",
       "      <th></th>\n",
       "      <th>College</th>\n",
       "      <th>Previous CTC</th>\n",
       "      <th>Previous job change</th>\n",
       "      <th>Graduation Marks</th>\n",
       "      <th>EXP (Month)</th>\n",
       "      <th>CTC</th>\n",
       "    </tr>\n",
       "  </thead>\n",
       "  <tbody>\n",
       "    <tr>\n",
       "      <th>count</th>\n",
       "      <td>1589.000000</td>\n",
       "      <td>1589.000000</td>\n",
       "      <td>1589.000000</td>\n",
       "      <td>1589.000000</td>\n",
       "      <td>1589.000000</td>\n",
       "      <td>1589.000000</td>\n",
       "    </tr>\n",
       "    <tr>\n",
       "      <th>mean</th>\n",
       "      <td>1.975456</td>\n",
       "      <td>55518.453744</td>\n",
       "      <td>2.528634</td>\n",
       "      <td>59.855255</td>\n",
       "      <td>39.044682</td>\n",
       "      <td>75353.278798</td>\n",
       "    </tr>\n",
       "    <tr>\n",
       "      <th>std</th>\n",
       "      <td>0.838330</td>\n",
       "      <td>6655.218445</td>\n",
       "      <td>1.123918</td>\n",
       "      <td>14.935139</td>\n",
       "      <td>14.108875</td>\n",
       "      <td>12587.288237</td>\n",
       "    </tr>\n",
       "    <tr>\n",
       "      <th>min</th>\n",
       "      <td>1.000000</td>\n",
       "      <td>36990.000000</td>\n",
       "      <td>1.000000</td>\n",
       "      <td>35.000000</td>\n",
       "      <td>18.000000</td>\n",
       "      <td>53020.320000</td>\n",
       "    </tr>\n",
       "    <tr>\n",
       "      <th>25%</th>\n",
       "      <td>1.000000</td>\n",
       "      <td>50518.000000</td>\n",
       "      <td>2.000000</td>\n",
       "      <td>46.000000</td>\n",
       "      <td>26.000000</td>\n",
       "      <td>66902.350000</td>\n",
       "    </tr>\n",
       "    <tr>\n",
       "      <th>50%</th>\n",
       "      <td>2.000000</td>\n",
       "      <td>55291.000000</td>\n",
       "      <td>3.000000</td>\n",
       "      <td>60.000000</td>\n",
       "      <td>39.000000</td>\n",
       "      <td>73028.670000</td>\n",
       "    </tr>\n",
       "    <tr>\n",
       "      <th>75%</th>\n",
       "      <td>3.000000</td>\n",
       "      <td>60109.000000</td>\n",
       "      <td>4.000000</td>\n",
       "      <td>73.000000</td>\n",
       "      <td>51.000000</td>\n",
       "      <td>80588.670000</td>\n",
       "    </tr>\n",
       "    <tr>\n",
       "      <th>max</th>\n",
       "      <td>3.000000</td>\n",
       "      <td>77911.000000</td>\n",
       "      <td>4.000000</td>\n",
       "      <td>85.000000</td>\n",
       "      <td>64.000000</td>\n",
       "      <td>123416.990000</td>\n",
       "    </tr>\n",
       "  </tbody>\n",
       "</table>\n",
       "</div>"
      ],
      "text/plain": [
       "           College  Previous CTC  Previous job change  Graduation Marks  \\\n",
       "count  1589.000000   1589.000000          1589.000000       1589.000000   \n",
       "mean      1.975456  55518.453744             2.528634         59.855255   \n",
       "std       0.838330   6655.218445             1.123918         14.935139   \n",
       "min       1.000000  36990.000000             1.000000         35.000000   \n",
       "25%       1.000000  50518.000000             2.000000         46.000000   \n",
       "50%       2.000000  55291.000000             3.000000         60.000000   \n",
       "75%       3.000000  60109.000000             4.000000         73.000000   \n",
       "max       3.000000  77911.000000             4.000000         85.000000   \n",
       "\n",
       "       EXP (Month)            CTC  \n",
       "count  1589.000000    1589.000000  \n",
       "mean     39.044682   75353.278798  \n",
       "std      14.108875   12587.288237  \n",
       "min      18.000000   53020.320000  \n",
       "25%      26.000000   66902.350000  \n",
       "50%      39.000000   73028.670000  \n",
       "75%      51.000000   80588.670000  \n",
       "max      64.000000  123416.990000  "
      ]
     },
     "execution_count": 19,
     "metadata": {},
     "output_type": "execute_result"
    }
   ],
   "source": [
    "df.describe()"
   ]
  },
  {
   "cell_type": "markdown",
   "id": "2b712a28",
   "metadata": {},
   "source": [
    "* Let's plot the graph for Independent variables with the dependent variable to exlpore the data"
   ]
  },
  {
   "cell_type": "code",
   "execution_count": 20,
   "id": "5c5f5f05",
   "metadata": {},
   "outputs": [
    {
     "data": {
      "text/plain": [
       "<seaborn.axisgrid.JointGrid at 0x16967ba90>"
      ]
     },
     "execution_count": 20,
     "metadata": {},
     "output_type": "execute_result"
    },
    {
     "data": {
      "image/png": "[encoded data removed]",
      "text/plain": [
       "<Figure size 600x600 with 3 Axes>"
      ]
     },
     "metadata": {},
     "output_type": "display_data"
    }
   ],
   "source": [
    "sns.jointplot(x='Previous job change', y= 'CTC', data=df)"
   ]
  },
  {
   "cell_type": "code",
   "execution_count": 21,
   "id": "57dd4556",
   "metadata": {},
   "outputs": [
    {
     "data": {
      "text/plain": [
       "<seaborn.axisgrid.JointGrid at 0x169a6e310>"
      ]
     },
     "execution_count": 21,
     "metadata": {},
     "output_type": "execute_result"
    },
    {
     "data": {
      "image/png": "[encoded data removed]",
      "text/plain": [
       "<Figure size 600x600 with 3 Axes>"
      ]
     },
     "metadata": {},
     "output_type": "display_data"
    }
   ],
   "source": [
    "sns.jointplot(x='Graduation Marks', y= 'CTC', data=df)"
   ]
  },
  {
   "cell_type": "code",
   "execution_count": 22,
   "id": "d0fdc767",
   "metadata": {},
   "outputs": [
    {
     "data": {
      "text/plain": [
       "<seaborn.axisgrid.JointGrid at 0x169c51c10>"
      ]
     },
     "execution_count": 22,
     "metadata": {},
     "output_type": "execute_result"
    },
    {
     "data": {
      "image/png": "[encoded data removed]",
      "text/plain": [
       "<Figure size 600x600 with 3 Axes>"
      ]
     },
     "metadata": {},
     "output_type": "display_data"
    }
   ],
   "source": [
    "sns.jointplot(x='EXP (Month)', y= 'CTC', data=df)"
   ]
  },
  {
   "cell_type": "code",
   "execution_count": 23,
   "id": "ee9ccdb7",
   "metadata": {},
   "outputs": [
    {
     "data": {
      "text/plain": [
       "<Axes: xlabel='College', ylabel='count'>"
      ]
     },
     "execution_count": 23,
     "metadata": {},
     "output_type": "execute_result"
    },
    {
     "data": {
      "image/png": "[encoded data removed]",
      "text/plain": [
       "<Figure size 640x480 with 1 Axes>"
      ]
     },
     "metadata": {},
     "output_type": "display_data"
    }
   ],
   "source": [
    "sns.countplot(x='College',data=df)"
   ]
  },
  {
   "cell_type": "code",
   "execution_count": 24,
   "id": "f0617f76",
   "metadata": {},
   "outputs": [
    {
     "data": {
      "text/plain": [
       "<Axes: xlabel='City', ylabel='count'>"
      ]
     },
     "execution_count": 24,
     "metadata": {},
     "output_type": "execute_result"
    },
    {
     "data": {
      "image/png": "[encoded data removed]",
      "text/plain": [
       "<Figure size 640x480 with 1 Axes>"
      ]
     },
     "metadata": {},
     "output_type": "display_data"
    }
   ],
   "source": [
    "sns.countplot(x='City',data=df)"
   ]
  },
  {
   "cell_type": "markdown",
   "id": "9061b723",
   "metadata": {},
   "source": [
    "* all graphs seem linear in nature\n",
    "* outliers can be capped at 99 percentile itself\n",
    "* missing values are not found"
   ]
  },
  {
   "cell_type": "markdown",
   "id": "a8b4232f",
   "metadata": {},
   "source": [
    "## Outlier treatment"
   ]
  },
  {
   "cell_type": "code",
   "execution_count": 25,
   "id": "070ea8b4",
   "metadata": {},
   "outputs": [],
   "source": [
    "uv= np.percentile(df['Previous CTC'],[99])[0]"
   ]
  },
  {
   "cell_type": "code",
   "execution_count": 26,
   "id": "9fcf68f9",
   "metadata": {
    "scrolled": true
   },
   "outputs": [
    {
     "data": {
      "text/html": [
       "<div>\n",
       "<style scoped>\n",
       "    .dataframe tbody tr th:only-of-type {\n",
       "        vertical-align: middle;\n",
       "    }\n",
       "\n",
       "    .dataframe tbody tr th {\n",
       "        vertical-align: top;\n",
       "    }\n",
       "\n",
       "    .dataframe thead th {\n",
       "        text-align: right;\n",
       "    }\n",
       "</style>\n",
       "<table border=\"1\" class=\"dataframe\">\n",
       "  <thead>\n",
       "    <tr style=\"text-align: right;\">\n",
       "      <th></th>\n",
       "      <th>College</th>\n",
       "      <th>City</th>\n",
       "      <th>Role</th>\n",
       "      <th>Previous CTC</th>\n",
       "      <th>Previous job change</th>\n",
       "      <th>Graduation Marks</th>\n",
       "      <th>EXP (Month)</th>\n",
       "      <th>CTC</th>\n",
       "    </tr>\n",
       "  </thead>\n",
       "  <tbody>\n",
       "    <tr>\n",
       "      <th>116</th>\n",
       "      <td>3</td>\n",
       "      <td>metro</td>\n",
       "      <td>Executive</td>\n",
       "      <td>77911.0</td>\n",
       "      <td>1</td>\n",
       "      <td>50</td>\n",
       "      <td>58</td>\n",
       "      <td>87831.62</td>\n",
       "    </tr>\n",
       "    <tr>\n",
       "      <th>292</th>\n",
       "      <td>3</td>\n",
       "      <td>non_metro</td>\n",
       "      <td>Manager</td>\n",
       "      <td>74198.0</td>\n",
       "      <td>1</td>\n",
       "      <td>57</td>\n",
       "      <td>25</td>\n",
       "      <td>99644.51</td>\n",
       "    </tr>\n",
       "    <tr>\n",
       "      <th>543</th>\n",
       "      <td>1</td>\n",
       "      <td>metro</td>\n",
       "      <td>Manager</td>\n",
       "      <td>73856.0</td>\n",
       "      <td>1</td>\n",
       "      <td>75</td>\n",
       "      <td>54</td>\n",
       "      <td>121362.73</td>\n",
       "    </tr>\n",
       "    <tr>\n",
       "      <th>572</th>\n",
       "      <td>1</td>\n",
       "      <td>metro</td>\n",
       "      <td>Executive</td>\n",
       "      <td>71543.0</td>\n",
       "      <td>4</td>\n",
       "      <td>82</td>\n",
       "      <td>30</td>\n",
       "      <td>61366.78</td>\n",
       "    </tr>\n",
       "    <tr>\n",
       "      <th>701</th>\n",
       "      <td>2</td>\n",
       "      <td>non_metro</td>\n",
       "      <td>Executive</td>\n",
       "      <td>71549.0</td>\n",
       "      <td>4</td>\n",
       "      <td>47</td>\n",
       "      <td>50</td>\n",
       "      <td>83116.21</td>\n",
       "    </tr>\n",
       "    <tr>\n",
       "      <th>847</th>\n",
       "      <td>1</td>\n",
       "      <td>metro</td>\n",
       "      <td>Executive</td>\n",
       "      <td>71756.0</td>\n",
       "      <td>4</td>\n",
       "      <td>67</td>\n",
       "      <td>23</td>\n",
       "      <td>72141.43</td>\n",
       "    </tr>\n",
       "    <tr>\n",
       "      <th>860</th>\n",
       "      <td>1</td>\n",
       "      <td>metro</td>\n",
       "      <td>Manager</td>\n",
       "      <td>75785.0</td>\n",
       "      <td>4</td>\n",
       "      <td>63</td>\n",
       "      <td>37</td>\n",
       "      <td>110338.25</td>\n",
       "    </tr>\n",
       "    <tr>\n",
       "      <th>941</th>\n",
       "      <td>3</td>\n",
       "      <td>metro</td>\n",
       "      <td>Executive</td>\n",
       "      <td>72319.0</td>\n",
       "      <td>1</td>\n",
       "      <td>51</td>\n",
       "      <td>50</td>\n",
       "      <td>63538.43</td>\n",
       "    </tr>\n",
       "    <tr>\n",
       "      <th>1024</th>\n",
       "      <td>1</td>\n",
       "      <td>metro</td>\n",
       "      <td>Executive</td>\n",
       "      <td>72661.0</td>\n",
       "      <td>3</td>\n",
       "      <td>74</td>\n",
       "      <td>47</td>\n",
       "      <td>70238.70</td>\n",
       "    </tr>\n",
       "    <tr>\n",
       "      <th>1047</th>\n",
       "      <td>1</td>\n",
       "      <td>non_metro</td>\n",
       "      <td>Manager</td>\n",
       "      <td>73214.0</td>\n",
       "      <td>4</td>\n",
       "      <td>57</td>\n",
       "      <td>22</td>\n",
       "      <td>100119.53</td>\n",
       "    </tr>\n",
       "    <tr>\n",
       "      <th>1067</th>\n",
       "      <td>3</td>\n",
       "      <td>non_metro</td>\n",
       "      <td>Executive</td>\n",
       "      <td>71760.0</td>\n",
       "      <td>4</td>\n",
       "      <td>40</td>\n",
       "      <td>39</td>\n",
       "      <td>71187.52</td>\n",
       "    </tr>\n",
       "    <tr>\n",
       "      <th>1088</th>\n",
       "      <td>3</td>\n",
       "      <td>metro</td>\n",
       "      <td>Executive</td>\n",
       "      <td>76815.0</td>\n",
       "      <td>4</td>\n",
       "      <td>75</td>\n",
       "      <td>52</td>\n",
       "      <td>82684.17</td>\n",
       "    </tr>\n",
       "    <tr>\n",
       "      <th>1131</th>\n",
       "      <td>2</td>\n",
       "      <td>metro</td>\n",
       "      <td>Executive</td>\n",
       "      <td>74256.0</td>\n",
       "      <td>2</td>\n",
       "      <td>40</td>\n",
       "      <td>27</td>\n",
       "      <td>83023.18</td>\n",
       "    </tr>\n",
       "    <tr>\n",
       "      <th>1317</th>\n",
       "      <td>1</td>\n",
       "      <td>non_metro</td>\n",
       "      <td>Executive</td>\n",
       "      <td>76070.0</td>\n",
       "      <td>2</td>\n",
       "      <td>54</td>\n",
       "      <td>18</td>\n",
       "      <td>58309.56</td>\n",
       "    </tr>\n",
       "    <tr>\n",
       "      <th>1332</th>\n",
       "      <td>3</td>\n",
       "      <td>metro</td>\n",
       "      <td>Executive</td>\n",
       "      <td>72649.0</td>\n",
       "      <td>3</td>\n",
       "      <td>69</td>\n",
       "      <td>52</td>\n",
       "      <td>78861.46</td>\n",
       "    </tr>\n",
       "    <tr>\n",
       "      <th>1454</th>\n",
       "      <td>1</td>\n",
       "      <td>metro</td>\n",
       "      <td>Executive</td>\n",
       "      <td>77911.0</td>\n",
       "      <td>1</td>\n",
       "      <td>50</td>\n",
       "      <td>58</td>\n",
       "      <td>87831.62</td>\n",
       "    </tr>\n",
       "  </tbody>\n",
       "</table>\n",
       "</div>"
      ],
      "text/plain": [
       "      College       City       Role  Previous CTC  Previous job change  \\\n",
       "116         3      metro  Executive       77911.0                    1   \n",
       "292         3  non_metro    Manager       74198.0                    1   \n",
       "543         1      metro    Manager       73856.0                    1   \n",
       "572         1      metro  Executive       71543.0                    4   \n",
       "701         2  non_metro  Executive       71549.0                    4   \n",
       "847         1      metro  Executive       71756.0                    4   \n",
       "860         1      metro    Manager       75785.0                    4   \n",
       "941         3      metro  Executive       72319.0                    1   \n",
       "1024        1      metro  Executive       72661.0                    3   \n",
       "1047        1  non_metro    Manager       73214.0                    4   \n",
       "1067        3  non_metro  Executive       71760.0                    4   \n",
       "1088        3      metro  Executive       76815.0                    4   \n",
       "1131        2      metro  Executive       74256.0                    2   \n",
       "1317        1  non_metro  Executive       76070.0                    2   \n",
       "1332        3      metro  Executive       72649.0                    3   \n",
       "1454        1      metro  Executive       77911.0                    1   \n",
       "\n",
       "      Graduation Marks  EXP (Month)        CTC  \n",
       "116                 50           58   87831.62  \n",
       "292                 57           25   99644.51  \n",
       "543                 75           54  121362.73  \n",
       "572                 82           30   61366.78  \n",
       "701                 47           50   83116.21  \n",
       "847                 67           23   72141.43  \n",
       "860                 63           37  110338.25  \n",
       "941                 51           50   63538.43  \n",
       "1024                74           47   70238.70  \n",
       "1047                57           22  100119.53  \n",
       "1067                40           39   71187.52  \n",
       "1088                75           52   82684.17  \n",
       "1131                40           27   83023.18  \n",
       "1317                54           18   58309.56  \n",
       "1332                69           52   78861.46  \n",
       "1454                50           58   87831.62  "
      ]
     },
     "execution_count": 26,
     "metadata": {},
     "output_type": "execute_result"
    }
   ],
   "source": [
    "df[(df['Previous CTC']>uv)]"
   ]
  },
  {
   "cell_type": "code",
   "execution_count": 27,
   "id": "d9825db1",
   "metadata": {
    "scrolled": true
   },
   "outputs": [
    {
     "name": "stderr",
     "output_type": "stream",
     "text": [
      "/var/folders/jb/hc05xk5x3nbccgmdfflqbj300000gn/T/ipykernel_5351/1963914092.py:1: SettingWithCopyWarning: \n",
      "A value is trying to be set on a copy of a slice from a DataFrame\n",
      "\n",
      "See the caveats in the documentation: https://pandas.pydata.org/pandas-docs/stable/user_guide/indexing.html#returning-a-view-versus-a-copy\n",
      "  df['Previous CTC'][df['Previous CTC'] > uv] = uv\n"
     ]
    }
   ],
   "source": [
    "df['Previous CTC'][df['Previous CTC'] > uv] = uv"
   ]
  },
  {
   "cell_type": "markdown",
   "id": "a5bc28f2",
   "metadata": {},
   "source": [
    "## get dummy variables"
   ]
  },
  {
   "cell_type": "code",
   "execution_count": 28,
   "id": "4b392fd4",
   "metadata": {},
   "outputs": [],
   "source": [
    "df = pd.get_dummies(df)"
   ]
  },
  {
   "cell_type": "code",
   "execution_count": 29,
   "id": "56b0c68d",
   "metadata": {},
   "outputs": [
    {
     "data": {
      "text/html": [
       "<div>\n",
       "<style scoped>\n",
       "    .dataframe tbody tr th:only-of-type {\n",
       "        vertical-align: middle;\n",
       "    }\n",
       "\n",
       "    .dataframe tbody tr th {\n",
       "        vertical-align: top;\n",
       "    }\n",
       "\n",
       "    .dataframe thead th {\n",
       "        text-align: right;\n",
       "    }\n",
       "</style>\n",
       "<table border=\"1\" class=\"dataframe\">\n",
       "  <thead>\n",
       "    <tr style=\"text-align: right;\">\n",
       "      <th></th>\n",
       "      <th>College</th>\n",
       "      <th>Previous CTC</th>\n",
       "      <th>Previous job change</th>\n",
       "      <th>Graduation Marks</th>\n",
       "      <th>EXP (Month)</th>\n",
       "      <th>CTC</th>\n",
       "      <th>City_metro</th>\n",
       "      <th>City_non_metro</th>\n",
       "      <th>Role_Executive</th>\n",
       "      <th>Role_Manager</th>\n",
       "    </tr>\n",
       "  </thead>\n",
       "  <tbody>\n",
       "    <tr>\n",
       "      <th>0</th>\n",
       "      <td>2</td>\n",
       "      <td>55523.0</td>\n",
       "      <td>3</td>\n",
       "      <td>66</td>\n",
       "      <td>19</td>\n",
       "      <td>71406.58</td>\n",
       "      <td>0</td>\n",
       "      <td>1</td>\n",
       "      <td>0</td>\n",
       "      <td>1</td>\n",
       "    </tr>\n",
       "    <tr>\n",
       "      <th>1</th>\n",
       "      <td>2</td>\n",
       "      <td>57081.0</td>\n",
       "      <td>1</td>\n",
       "      <td>84</td>\n",
       "      <td>18</td>\n",
       "      <td>68005.87</td>\n",
       "      <td>0</td>\n",
       "      <td>1</td>\n",
       "      <td>1</td>\n",
       "      <td>0</td>\n",
       "    </tr>\n",
       "    <tr>\n",
       "      <th>2</th>\n",
       "      <td>3</td>\n",
       "      <td>60347.0</td>\n",
       "      <td>2</td>\n",
       "      <td>52</td>\n",
       "      <td>28</td>\n",
       "      <td>76764.02</td>\n",
       "      <td>0</td>\n",
       "      <td>1</td>\n",
       "      <td>1</td>\n",
       "      <td>0</td>\n",
       "    </tr>\n",
       "    <tr>\n",
       "      <th>3</th>\n",
       "      <td>3</td>\n",
       "      <td>49010.0</td>\n",
       "      <td>2</td>\n",
       "      <td>81</td>\n",
       "      <td>33</td>\n",
       "      <td>82092.39</td>\n",
       "      <td>0</td>\n",
       "      <td>1</td>\n",
       "      <td>1</td>\n",
       "      <td>0</td>\n",
       "    </tr>\n",
       "    <tr>\n",
       "      <th>4</th>\n",
       "      <td>1</td>\n",
       "      <td>57879.0</td>\n",
       "      <td>4</td>\n",
       "      <td>74</td>\n",
       "      <td>32</td>\n",
       "      <td>73878.10</td>\n",
       "      <td>0</td>\n",
       "      <td>1</td>\n",
       "      <td>1</td>\n",
       "      <td>0</td>\n",
       "    </tr>\n",
       "    <tr>\n",
       "      <th>5</th>\n",
       "      <td>2</td>\n",
       "      <td>54340.0</td>\n",
       "      <td>4</td>\n",
       "      <td>73</td>\n",
       "      <td>31</td>\n",
       "      <td>59950.89</td>\n",
       "      <td>0</td>\n",
       "      <td>1</td>\n",
       "      <td>1</td>\n",
       "      <td>0</td>\n",
       "    </tr>\n",
       "    <tr>\n",
       "      <th>6</th>\n",
       "      <td>3</td>\n",
       "      <td>60298.0</td>\n",
       "      <td>1</td>\n",
       "      <td>42</td>\n",
       "      <td>46</td>\n",
       "      <td>66602.34</td>\n",
       "      <td>1</td>\n",
       "      <td>0</td>\n",
       "      <td>1</td>\n",
       "      <td>0</td>\n",
       "    </tr>\n",
       "    <tr>\n",
       "      <th>7</th>\n",
       "      <td>2</td>\n",
       "      <td>49944.0</td>\n",
       "      <td>2</td>\n",
       "      <td>56</td>\n",
       "      <td>37</td>\n",
       "      <td>57768.44</td>\n",
       "      <td>1</td>\n",
       "      <td>0</td>\n",
       "      <td>1</td>\n",
       "      <td>0</td>\n",
       "    </tr>\n",
       "    <tr>\n",
       "      <th>8</th>\n",
       "      <td>3</td>\n",
       "      <td>53124.0</td>\n",
       "      <td>4</td>\n",
       "      <td>40</td>\n",
       "      <td>37</td>\n",
       "      <td>70083.30</td>\n",
       "      <td>1</td>\n",
       "      <td>0</td>\n",
       "      <td>1</td>\n",
       "      <td>0</td>\n",
       "    </tr>\n",
       "    <tr>\n",
       "      <th>9</th>\n",
       "      <td>1</td>\n",
       "      <td>51141.0</td>\n",
       "      <td>1</td>\n",
       "      <td>47</td>\n",
       "      <td>60</td>\n",
       "      <td>85648.48</td>\n",
       "      <td>0</td>\n",
       "      <td>1</td>\n",
       "      <td>1</td>\n",
       "      <td>0</td>\n",
       "    </tr>\n",
       "  </tbody>\n",
       "</table>\n",
       "</div>"
      ],
      "text/plain": [
       "   College  Previous CTC  Previous job change  Graduation Marks  EXP (Month)  \\\n",
       "0        2       55523.0                    3                66           19   \n",
       "1        2       57081.0                    1                84           18   \n",
       "2        3       60347.0                    2                52           28   \n",
       "3        3       49010.0                    2                81           33   \n",
       "4        1       57879.0                    4                74           32   \n",
       "5        2       54340.0                    4                73           31   \n",
       "6        3       60298.0                    1                42           46   \n",
       "7        2       49944.0                    2                56           37   \n",
       "8        3       53124.0                    4                40           37   \n",
       "9        1       51141.0                    1                47           60   \n",
       "\n",
       "        CTC  City_metro  City_non_metro  Role_Executive  Role_Manager  \n",
       "0  71406.58           0               1               0             1  \n",
       "1  68005.87           0               1               1             0  \n",
       "2  76764.02           0               1               1             0  \n",
       "3  82092.39           0               1               1             0  \n",
       "4  73878.10           0               1               1             0  \n",
       "5  59950.89           0               1               1             0  \n",
       "6  66602.34           1               0               1             0  \n",
       "7  57768.44           1               0               1             0  \n",
       "8  70083.30           1               0               1             0  \n",
       "9  85648.48           0               1               1             0  "
      ]
     },
     "execution_count": 29,
     "metadata": {},
     "output_type": "execute_result"
    }
   ],
   "source": [
    "df.head(10)"
   ]
  },
  {
   "cell_type": "markdown",
   "id": "b17a5121",
   "metadata": {},
   "source": [
    "* we did not make dummy variables for college since college tiers are hierarchical in nature\n",
    "* now we delete extra dummy variables"
   ]
  },
  {
   "cell_type": "code",
   "execution_count": 30,
   "id": "21e336ea",
   "metadata": {},
   "outputs": [],
   "source": [
    "del df['City_non_metro']\n",
    "del df['Role_Executive']"
   ]
  },
  {
   "cell_type": "code",
   "execution_count": 31,
   "id": "df8147c5",
   "metadata": {},
   "outputs": [
    {
     "data": {
      "text/html": [
       "<div>\n",
       "<style scoped>\n",
       "    .dataframe tbody tr th:only-of-type {\n",
       "        vertical-align: middle;\n",
       "    }\n",
       "\n",
       "    .dataframe tbody tr th {\n",
       "        vertical-align: top;\n",
       "    }\n",
       "\n",
       "    .dataframe thead th {\n",
       "        text-align: right;\n",
       "    }\n",
       "</style>\n",
       "<table border=\"1\" class=\"dataframe\">\n",
       "  <thead>\n",
       "    <tr style=\"text-align: right;\">\n",
       "      <th></th>\n",
       "      <th>College</th>\n",
       "      <th>Previous CTC</th>\n",
       "      <th>Previous job change</th>\n",
       "      <th>Graduation Marks</th>\n",
       "      <th>EXP (Month)</th>\n",
       "      <th>CTC</th>\n",
       "      <th>City_metro</th>\n",
       "      <th>Role_Manager</th>\n",
       "    </tr>\n",
       "  </thead>\n",
       "  <tbody>\n",
       "    <tr>\n",
       "      <th>0</th>\n",
       "      <td>2</td>\n",
       "      <td>55523.0</td>\n",
       "      <td>3</td>\n",
       "      <td>66</td>\n",
       "      <td>19</td>\n",
       "      <td>71406.58</td>\n",
       "      <td>0</td>\n",
       "      <td>1</td>\n",
       "    </tr>\n",
       "    <tr>\n",
       "      <th>1</th>\n",
       "      <td>2</td>\n",
       "      <td>57081.0</td>\n",
       "      <td>1</td>\n",
       "      <td>84</td>\n",
       "      <td>18</td>\n",
       "      <td>68005.87</td>\n",
       "      <td>0</td>\n",
       "      <td>0</td>\n",
       "    </tr>\n",
       "    <tr>\n",
       "      <th>2</th>\n",
       "      <td>3</td>\n",
       "      <td>60347.0</td>\n",
       "      <td>2</td>\n",
       "      <td>52</td>\n",
       "      <td>28</td>\n",
       "      <td>76764.02</td>\n",
       "      <td>0</td>\n",
       "      <td>0</td>\n",
       "    </tr>\n",
       "    <tr>\n",
       "      <th>3</th>\n",
       "      <td>3</td>\n",
       "      <td>49010.0</td>\n",
       "      <td>2</td>\n",
       "      <td>81</td>\n",
       "      <td>33</td>\n",
       "      <td>82092.39</td>\n",
       "      <td>0</td>\n",
       "      <td>0</td>\n",
       "    </tr>\n",
       "    <tr>\n",
       "      <th>4</th>\n",
       "      <td>1</td>\n",
       "      <td>57879.0</td>\n",
       "      <td>4</td>\n",
       "      <td>74</td>\n",
       "      <td>32</td>\n",
       "      <td>73878.10</td>\n",
       "      <td>0</td>\n",
       "      <td>0</td>\n",
       "    </tr>\n",
       "  </tbody>\n",
       "</table>\n",
       "</div>"
      ],
      "text/plain": [
       "   College  Previous CTC  Previous job change  Graduation Marks  EXP (Month)  \\\n",
       "0        2       55523.0                    3                66           19   \n",
       "1        2       57081.0                    1                84           18   \n",
       "2        3       60347.0                    2                52           28   \n",
       "3        3       49010.0                    2                81           33   \n",
       "4        1       57879.0                    4                74           32   \n",
       "\n",
       "        CTC  City_metro  Role_Manager  \n",
       "0  71406.58           0             1  \n",
       "1  68005.87           0             0  \n",
       "2  76764.02           0             0  \n",
       "3  82092.39           0             0  \n",
       "4  73878.10           0             0  "
      ]
     },
     "execution_count": 31,
     "metadata": {},
     "output_type": "execute_result"
    }
   ],
   "source": [
    "df.head()"
   ]
  },
  {
   "cell_type": "code",
   "execution_count": 32,
   "id": "43bb7a47",
   "metadata": {},
   "outputs": [
    {
     "data": {
      "text/html": [
       "<div>\n",
       "<style scoped>\n",
       "    .dataframe tbody tr th:only-of-type {\n",
       "        vertical-align: middle;\n",
       "    }\n",
       "\n",
       "    .dataframe tbody tr th {\n",
       "        vertical-align: top;\n",
       "    }\n",
       "\n",
       "    .dataframe thead th {\n",
       "        text-align: right;\n",
       "    }\n",
       "</style>\n",
       "<table border=\"1\" class=\"dataframe\">\n",
       "  <thead>\n",
       "    <tr style=\"text-align: right;\">\n",
       "      <th></th>\n",
       "      <th>College</th>\n",
       "      <th>Previous CTC</th>\n",
       "      <th>Previous job change</th>\n",
       "      <th>Graduation Marks</th>\n",
       "      <th>EXP (Month)</th>\n",
       "      <th>CTC</th>\n",
       "      <th>City_metro</th>\n",
       "      <th>Role_Manager</th>\n",
       "    </tr>\n",
       "  </thead>\n",
       "  <tbody>\n",
       "    <tr>\n",
       "      <th>College</th>\n",
       "      <td>1.000000</td>\n",
       "      <td>0.042781</td>\n",
       "      <td>-0.055060</td>\n",
       "      <td>0.003539</td>\n",
       "      <td>0.011752</td>\n",
       "      <td>-0.029592</td>\n",
       "      <td>-0.014946</td>\n",
       "      <td>-0.014749</td>\n",
       "    </tr>\n",
       "    <tr>\n",
       "      <th>Previous CTC</th>\n",
       "      <td>0.042781</td>\n",
       "      <td>1.000000</td>\n",
       "      <td>0.006994</td>\n",
       "      <td>-0.032850</td>\n",
       "      <td>0.119261</td>\n",
       "      <td>0.256969</td>\n",
       "      <td>0.002734</td>\n",
       "      <td>0.011804</td>\n",
       "    </tr>\n",
       "    <tr>\n",
       "      <th>Previous job change</th>\n",
       "      <td>-0.055060</td>\n",
       "      <td>0.006994</td>\n",
       "      <td>1.000000</td>\n",
       "      <td>0.019267</td>\n",
       "      <td>0.023488</td>\n",
       "      <td>0.011370</td>\n",
       "      <td>0.051670</td>\n",
       "      <td>-0.017150</td>\n",
       "    </tr>\n",
       "    <tr>\n",
       "      <th>Graduation Marks</th>\n",
       "      <td>0.003539</td>\n",
       "      <td>-0.032850</td>\n",
       "      <td>0.019267</td>\n",
       "      <td>1.000000</td>\n",
       "      <td>-0.057061</td>\n",
       "      <td>-0.005450</td>\n",
       "      <td>-0.018616</td>\n",
       "      <td>0.017858</td>\n",
       "    </tr>\n",
       "    <tr>\n",
       "      <th>EXP (Month)</th>\n",
       "      <td>0.011752</td>\n",
       "      <td>0.119261</td>\n",
       "      <td>0.023488</td>\n",
       "      <td>-0.057061</td>\n",
       "      <td>1.000000</td>\n",
       "      <td>0.301115</td>\n",
       "      <td>-0.023613</td>\n",
       "      <td>-0.026751</td>\n",
       "    </tr>\n",
       "    <tr>\n",
       "      <th>CTC</th>\n",
       "      <td>-0.029592</td>\n",
       "      <td>0.256969</td>\n",
       "      <td>0.011370</td>\n",
       "      <td>-0.005450</td>\n",
       "      <td>0.301115</td>\n",
       "      <td>1.000000</td>\n",
       "      <td>-0.020365</td>\n",
       "      <td>0.621311</td>\n",
       "    </tr>\n",
       "    <tr>\n",
       "      <th>City_metro</th>\n",
       "      <td>-0.014946</td>\n",
       "      <td>0.002734</td>\n",
       "      <td>0.051670</td>\n",
       "      <td>-0.018616</td>\n",
       "      <td>-0.023613</td>\n",
       "      <td>-0.020365</td>\n",
       "      <td>1.000000</td>\n",
       "      <td>-0.048671</td>\n",
       "    </tr>\n",
       "    <tr>\n",
       "      <th>Role_Manager</th>\n",
       "      <td>-0.014749</td>\n",
       "      <td>0.011804</td>\n",
       "      <td>-0.017150</td>\n",
       "      <td>0.017858</td>\n",
       "      <td>-0.026751</td>\n",
       "      <td>0.621311</td>\n",
       "      <td>-0.048671</td>\n",
       "      <td>1.000000</td>\n",
       "    </tr>\n",
       "  </tbody>\n",
       "</table>\n",
       "</div>"
      ],
      "text/plain": [
       "                      College  Previous CTC  Previous job change  \\\n",
       "College              1.000000      0.042781            -0.055060   \n",
       "Previous CTC         0.042781      1.000000             0.006994   \n",
       "Previous job change -0.055060      0.006994             1.000000   \n",
       "Graduation Marks     0.003539     -0.032850             0.019267   \n",
       "EXP (Month)          0.011752      0.119261             0.023488   \n",
       "CTC                 -0.029592      0.256969             0.011370   \n",
       "City_metro          -0.014946      0.002734             0.051670   \n",
       "Role_Manager        -0.014749      0.011804            -0.017150   \n",
       "\n",
       "                     Graduation Marks  EXP (Month)       CTC  City_metro  \\\n",
       "College                      0.003539     0.011752 -0.029592   -0.014946   \n",
       "Previous CTC                -0.032850     0.119261  0.256969    0.002734   \n",
       "Previous job change          0.019267     0.023488  0.011370    0.051670   \n",
       "Graduation Marks             1.000000    -0.057061 -0.005450   -0.018616   \n",
       "EXP (Month)                 -0.057061     1.000000  0.301115   -0.023613   \n",
       "CTC                         -0.005450     0.301115  1.000000   -0.020365   \n",
       "City_metro                  -0.018616    -0.023613 -0.020365    1.000000   \n",
       "Role_Manager                 0.017858    -0.026751  0.621311   -0.048671   \n",
       "\n",
       "                     Role_Manager  \n",
       "College                 -0.014749  \n",
       "Previous CTC             0.011804  \n",
       "Previous job change     -0.017150  \n",
       "Graduation Marks         0.017858  \n",
       "EXP (Month)             -0.026751  \n",
       "CTC                      0.621311  \n",
       "City_metro              -0.048671  \n",
       "Role_Manager             1.000000  "
      ]
     },
     "execution_count": 32,
     "metadata": {},
     "output_type": "execute_result"
    }
   ],
   "source": [
    "df.corr()"
   ]
  },
  {
   "cell_type": "markdown",
   "id": "23de48c4",
   "metadata": {},
   "source": [
    "* correlation between independent variables is less\n",
    "* correlation between CTC and independent variable is also low for many cases but we have limited independent variable so deleting one would affect the accuracy of the model"
   ]
  },
  {
   "cell_type": "markdown",
   "id": "968d4c71",
   "metadata": {},
   "source": [
    "# Linear Regression"
   ]
  },
  {
   "cell_type": "markdown",
   "id": "c9f2f3b4",
   "metadata": {},
   "source": [
    "* To get a basic idea of the r2 score let's start with a simple Linear Regression model"
   ]
  },
  {
   "cell_type": "code",
   "execution_count": 33,
   "id": "e164c955",
   "metadata": {},
   "outputs": [],
   "source": [
    "from sklearn.linear_model import LinearRegression"
   ]
  },
  {
   "cell_type": "code",
   "execution_count": 34,
   "id": "d84fefd3",
   "metadata": {},
   "outputs": [],
   "source": [
    "x_multi = df.drop(\"CTC\", axis=1)"
   ]
  },
  {
   "cell_type": "code",
   "execution_count": 35,
   "id": "4cacb436",
   "metadata": {},
   "outputs": [
    {
     "data": {
      "text/html": [
       "<div>\n",
       "<style scoped>\n",
       "    .dataframe tbody tr th:only-of-type {\n",
       "        vertical-align: middle;\n",
       "    }\n",
       "\n",
       "    .dataframe tbody tr th {\n",
       "        vertical-align: top;\n",
       "    }\n",
       "\n",
       "    .dataframe thead th {\n",
       "        text-align: right;\n",
       "    }\n",
       "</style>\n",
       "<table border=\"1\" class=\"dataframe\">\n",
       "  <thead>\n",
       "    <tr style=\"text-align: right;\">\n",
       "      <th></th>\n",
       "      <th>College</th>\n",
       "      <th>Previous CTC</th>\n",
       "      <th>Previous job change</th>\n",
       "      <th>Graduation Marks</th>\n",
       "      <th>EXP (Month)</th>\n",
       "      <th>City_metro</th>\n",
       "      <th>Role_Manager</th>\n",
       "    </tr>\n",
       "  </thead>\n",
       "  <tbody>\n",
       "    <tr>\n",
       "      <th>0</th>\n",
       "      <td>2</td>\n",
       "      <td>55523.0</td>\n",
       "      <td>3</td>\n",
       "      <td>66</td>\n",
       "      <td>19</td>\n",
       "      <td>0</td>\n",
       "      <td>1</td>\n",
       "    </tr>\n",
       "    <tr>\n",
       "      <th>1</th>\n",
       "      <td>2</td>\n",
       "      <td>57081.0</td>\n",
       "      <td>1</td>\n",
       "      <td>84</td>\n",
       "      <td>18</td>\n",
       "      <td>0</td>\n",
       "      <td>0</td>\n",
       "    </tr>\n",
       "    <tr>\n",
       "      <th>2</th>\n",
       "      <td>3</td>\n",
       "      <td>60347.0</td>\n",
       "      <td>2</td>\n",
       "      <td>52</td>\n",
       "      <td>28</td>\n",
       "      <td>0</td>\n",
       "      <td>0</td>\n",
       "    </tr>\n",
       "    <tr>\n",
       "      <th>3</th>\n",
       "      <td>3</td>\n",
       "      <td>49010.0</td>\n",
       "      <td>2</td>\n",
       "      <td>81</td>\n",
       "      <td>33</td>\n",
       "      <td>0</td>\n",
       "      <td>0</td>\n",
       "    </tr>\n",
       "    <tr>\n",
       "      <th>4</th>\n",
       "      <td>1</td>\n",
       "      <td>57879.0</td>\n",
       "      <td>4</td>\n",
       "      <td>74</td>\n",
       "      <td>32</td>\n",
       "      <td>0</td>\n",
       "      <td>0</td>\n",
       "    </tr>\n",
       "  </tbody>\n",
       "</table>\n",
       "</div>"
      ],
      "text/plain": [
       "   College  Previous CTC  Previous job change  Graduation Marks  EXP (Month)  \\\n",
       "0        2       55523.0                    3                66           19   \n",
       "1        2       57081.0                    1                84           18   \n",
       "2        3       60347.0                    2                52           28   \n",
       "3        3       49010.0                    2                81           33   \n",
       "4        1       57879.0                    4                74           32   \n",
       "\n",
       "   City_metro  Role_Manager  \n",
       "0           0             1  \n",
       "1           0             0  \n",
       "2           0             0  \n",
       "3           0             0  \n",
       "4           0             0  "
      ]
     },
     "execution_count": 35,
     "metadata": {},
     "output_type": "execute_result"
    }
   ],
   "source": [
    "x_multi.head()"
   ]
  },
  {
   "cell_type": "code",
   "execution_count": 36,
   "id": "32c30506",
   "metadata": {},
   "outputs": [],
   "source": [
    "y_multi = df['CTC']"
   ]
  },
  {
   "cell_type": "code",
   "execution_count": 37,
   "id": "b9baeac6",
   "metadata": {},
   "outputs": [
    {
     "data": {
      "text/plain": [
       "0    71406.58\n",
       "1    68005.87\n",
       "2    76764.02\n",
       "3    82092.39\n",
       "4    73878.10\n",
       "Name: CTC, dtype: float64"
      ]
     },
     "execution_count": 37,
     "metadata": {},
     "output_type": "execute_result"
    }
   ],
   "source": [
    "y_multi.head()"
   ]
  },
  {
   "cell_type": "markdown",
   "id": "84251e7b",
   "metadata": {},
   "source": [
    "* Create a train test split for testing data on a different data set than one it was trained with"
   ]
  },
  {
   "cell_type": "code",
   "execution_count": 38,
   "id": "142c56f2",
   "metadata": {},
   "outputs": [],
   "source": [
    "from sklearn.model_selection import train_test_split"
   ]
  },
  {
   "cell_type": "code",
   "execution_count": 39,
   "id": "4cdef64e",
   "metadata": {},
   "outputs": [],
   "source": [
    "x_train, x_test, y_train, y_test = train_test_split(x_multi, y_multi, test_size = 0.2, random_state = 0)"
   ]
  },
  {
   "cell_type": "code",
   "execution_count": 40,
   "id": "f3c6f4cc",
   "metadata": {},
   "outputs": [
    {
     "name": "stdout",
     "output_type": "stream",
     "text": [
      "(1271, 7) (318, 7) (1271,) (318,)\n"
     ]
    }
   ],
   "source": [
    "print(x_train.shape, x_test.shape, y_train.shape, y_test.shape)"
   ]
  },
  {
   "cell_type": "markdown",
   "id": "720f71f5",
   "metadata": {},
   "source": [
    "* Create a linear Regresssion model and fit the training data into it"
   ]
  },
  {
   "cell_type": "code",
   "execution_count": 41,
   "id": "14512d8f",
   "metadata": {},
   "outputs": [],
   "source": [
    "lm_a = LinearRegression()"
   ]
  },
  {
   "cell_type": "code",
   "execution_count": 42,
   "id": "25367eb1",
   "metadata": {},
   "outputs": [
    {
     "data": {
      "text/html": [
       "<style>#sk-container-id-1 {color: black;background-color: white;}#sk-container-id-1 pre{padding: 0;}#sk-container-id-1 div.sk-toggleable {background-color: white;}#sk-container-id-1 label.sk-toggleable__label {cursor: pointer;display: block;width: 100%;margin-bottom: 0;padding: 0.3em;box-sizing: border-box;text-align: center;}#sk-container-id-1 label.sk-toggleable__label-arrow:before {content: \"▸\";float: left;margin-right: 0.25em;color: #696969;}#sk-container-id-1 label.sk-toggleable__label-arrow:hover:before {color: black;}#sk-container-id-1 div.sk-estimator:hover label.sk-toggleable__label-arrow:before {color: black;}#sk-container-id-1 div.sk-toggleable__content {max-height: 0;max-width: 0;overflow: hidden;text-align: left;background-color: #f0f8ff;}#sk-container-id-1 div.sk-toggleable__content pre {margin: 0.2em;color: black;border-radius: 0.25em;background-color: #f0f8ff;}#sk-container-id-1 input.sk-toggleable__control:checked~div.sk-toggleable__content {max-height: 200px;max-width: 100%;overflow: auto;}#sk-container-id-1 input.sk-toggleable__control:checked~label.sk-toggleable__label-arrow:before {content: \"▾\";}#sk-container-id-1 div.sk-estimator input.sk-toggleable__control:checked~label.sk-toggleable__label {background-color: #d4ebff;}#sk-container-id-1 div.sk-label input.sk-toggleable__control:checked~label.sk-toggleable__label {background-color: #d4ebff;}#sk-container-id-1 input.sk-hidden--visually {border: 0;clip: rect(1px 1px 1px 1px);clip: rect(1px, 1px, 1px, 1px);height: 1px;margin: -1px;overflow: hidden;padding: 0;position: absolute;width: 1px;}#sk-container-id-1 div.sk-estimator {font-family: monospace;background-color: #f0f8ff;border: 1px dotted black;border-radius: 0.25em;box-sizing: border-box;margin-bottom: 0.5em;}#sk-container-id-1 div.sk-estimator:hover {background-color: #d4ebff;}#sk-container-id-1 div.sk-parallel-item::after {content: \"\";width: 100%;border-bottom: 1px solid gray;flex-grow: 1;}#sk-container-id-1 div.sk-label:hover label.sk-toggleable__label {background-color: #d4ebff;}#sk-container-id-1 div.sk-serial::before {content: \"\";position: absolute;border-left: 1px solid gray;box-sizing: border-box;top: 0;bottom: 0;left: 50%;z-index: 0;}#sk-container-id-1 div.sk-serial {display: flex;flex-direction: column;align-items: center;background-color: white;padding-right: 0.2em;padding-left: 0.2em;position: relative;}#sk-container-id-1 div.sk-item {position: relative;z-index: 1;}#sk-container-id-1 div.sk-parallel {display: flex;align-items: stretch;justify-content: center;background-color: white;position: relative;}#sk-container-id-1 div.sk-item::before, #sk-container-id-1 div.sk-parallel-item::before {content: \"\";position: absolute;border-left: 1px solid gray;box-sizing: border-box;top: 0;bottom: 0;left: 50%;z-index: -1;}#sk-container-id-1 div.sk-parallel-item {display: flex;flex-direction: column;z-index: 1;position: relative;background-color: white;}#sk-container-id-1 div.sk-parallel-item:first-child::after {align-self: flex-end;width: 50%;}#sk-container-id-1 div.sk-parallel-item:last-child::after {align-self: flex-start;width: 50%;}#sk-container-id-1 div.sk-parallel-item:only-child::after {width: 0;}#sk-container-id-1 div.sk-dashed-wrapped {border: 1px dashed gray;margin: 0 0.4em 0.5em 0.4em;box-sizing: border-box;padding-bottom: 0.4em;background-color: white;}#sk-container-id-1 div.sk-label label {font-family: monospace;font-weight: bold;display: inline-block;line-height: 1.2em;}#sk-container-id-1 div.sk-label-container {text-align: center;}#sk-container-id-1 div.sk-container {/* jupyter's `normalize.less` sets `[hidden] { display: none; }` but bootstrap.min.css set `[hidden] { display: none !important; }` so we also need the `!important` here to be able to override the default hidden behavior on the sphinx rendered scikit-learn.org. See: https://github.com/scikit-learn/scikit-learn/issues/21755 */display: inline-block !important;position: relative;}#sk-container-id-1 div.sk-text-repr-fallback {display: none;}</style><div id=\"sk-container-id-1\" class=\"sk-top-container\"><div class=\"sk-text-repr-fallback\"><pre>LinearRegression()</pre><b>In a Jupyter environment, please rerun this cell to show the HTML representation or trust the notebook. <br />On GitHub, the HTML representation is unable to render, please try loading this page with nbviewer.org.</b></div><div class=\"sk-container\" hidden><div class=\"sk-item\"><div class=\"sk-estimator sk-toggleable\"><input class=\"sk-toggleable__control sk-hidden--visually\" id=\"sk-estimator-id-1\" type=\"checkbox\" checked><label for=\"sk-estimator-id-1\" class=\"sk-toggleable__label sk-toggleable__label-arrow\">LinearRegression</label><div class=\"sk-toggleable__content\"><pre>LinearRegression()</pre></div></div></div></div></div>"
      ],
      "text/plain": [
       "LinearRegression()"
      ]
     },
     "execution_count": 42,
     "metadata": {},
     "output_type": "execute_result"
    }
   ],
   "source": [
    "lm_a.fit(x_train, y_train)"
   ]
  },
  {
   "cell_type": "markdown",
   "id": "9c043a91",
   "metadata": {},
   "source": [
    "* Check the r2 score for the model"
   ]
  },
  {
   "cell_type": "code",
   "execution_count": 43,
   "id": "9544b37e",
   "metadata": {},
   "outputs": [],
   "source": [
    "y_test_a = lm_a.predict(x_test)"
   ]
  },
  {
   "cell_type": "code",
   "execution_count": 44,
   "id": "7f4f9c36",
   "metadata": {},
   "outputs": [],
   "source": [
    "y_train_a = lm_a.predict(x_train)"
   ]
  },
  {
   "cell_type": "code",
   "execution_count": 45,
   "id": "179ad9a1",
   "metadata": {},
   "outputs": [],
   "source": [
    "from sklearn.metrics import r2_score"
   ]
  },
  {
   "cell_type": "code",
   "execution_count": 46,
   "id": "be8786e6",
   "metadata": {},
   "outputs": [
    {
     "data": {
      "text/plain": [
       "0.5356339992547647"
      ]
     },
     "execution_count": 46,
     "metadata": {},
     "output_type": "execute_result"
    }
   ],
   "source": [
    "r2_score(y_test, y_test_a)"
   ]
  },
  {
   "cell_type": "code",
   "execution_count": 47,
   "id": "ceb67f4e",
   "metadata": {},
   "outputs": [
    {
     "data": {
      "text/plain": [
       "0.5327443835281036"
      ]
     },
     "execution_count": 47,
     "metadata": {},
     "output_type": "execute_result"
    }
   ],
   "source": [
    "r2_score(y_train, y_train_a)"
   ]
  },
  {
   "cell_type": "markdown",
   "id": "3c1fb105",
   "metadata": {},
   "source": [
    "# Ridge Regression"
   ]
  },
  {
   "cell_type": "markdown",
   "id": "25384f4e",
   "metadata": {},
   "source": [
    "* To improve the r2 score we can use Ridge regression to prevent overfitting.\n",
    "* We are using Ridge Regression over Lasso since we want to avoid removing features. Lasso can set coefficients to exact zero.\n",
    "* Before using Ridge Regression we need to scale the data"
   ]
  },
  {
   "cell_type": "code",
   "execution_count": 48,
   "id": "5beef184",
   "metadata": {},
   "outputs": [],
   "source": [
    "from sklearn import preprocessing"
   ]
  },
  {
   "cell_type": "code",
   "execution_count": 49,
   "id": "89c7de68",
   "metadata": {},
   "outputs": [],
   "source": [
    "scaler = preprocessing.StandardScaler().fit(x_train)"
   ]
  },
  {
   "cell_type": "code",
   "execution_count": 50,
   "id": "9fedb55a",
   "metadata": {},
   "outputs": [],
   "source": [
    "x_train_s = scaler.transform(x_train)"
   ]
  },
  {
   "cell_type": "code",
   "execution_count": 51,
   "id": "4866679b",
   "metadata": {},
   "outputs": [],
   "source": [
    "x_test_s = scaler.transform(x_test)"
   ]
  },
  {
   "cell_type": "code",
   "execution_count": 52,
   "id": "39b95aed",
   "metadata": {},
   "outputs": [],
   "source": [
    "from sklearn.linear_model import Ridge"
   ]
  },
  {
   "cell_type": "code",
   "execution_count": 53,
   "id": "72936b66",
   "metadata": {},
   "outputs": [
    {
     "data": {
      "text/html": [
       "<style>#sk-container-id-2 {color: black;background-color: white;}#sk-container-id-2 pre{padding: 0;}#sk-container-id-2 div.sk-toggleable {background-color: white;}#sk-container-id-2 label.sk-toggleable__label {cursor: pointer;display: block;width: 100%;margin-bottom: 0;padding: 0.3em;box-sizing: border-box;text-align: center;}#sk-container-id-2 label.sk-toggleable__label-arrow:before {content: \"▸\";float: left;margin-right: 0.25em;color: #696969;}#sk-container-id-2 label.sk-toggleable__label-arrow:hover:before {color: black;}#sk-container-id-2 div.sk-estimator:hover label.sk-toggleable__label-arrow:before {color: black;}#sk-container-id-2 div.sk-toggleable__content {max-height: 0;max-width: 0;overflow: hidden;text-align: left;background-color: #f0f8ff;}#sk-container-id-2 div.sk-toggleable__content pre {margin: 0.2em;color: black;border-radius: 0.25em;background-color: #f0f8ff;}#sk-container-id-2 input.sk-toggleable__control:checked~div.sk-toggleable__content {max-height: 200px;max-width: 100%;overflow: auto;}#sk-container-id-2 input.sk-toggleable__control:checked~label.sk-toggleable__label-arrow:before {content: \"▾\";}#sk-container-id-2 div.sk-estimator input.sk-toggleable__control:checked~label.sk-toggleable__label {background-color: #d4ebff;}#sk-container-id-2 div.sk-label input.sk-toggleable__control:checked~label.sk-toggleable__label {background-color: #d4ebff;}#sk-container-id-2 input.sk-hidden--visually {border: 0;clip: rect(1px 1px 1px 1px);clip: rect(1px, 1px, 1px, 1px);height: 1px;margin: -1px;overflow: hidden;padding: 0;position: absolute;width: 1px;}#sk-container-id-2 div.sk-estimator {font-family: monospace;background-color: #f0f8ff;border: 1px dotted black;border-radius: 0.25em;box-sizing: border-box;margin-bottom: 0.5em;}#sk-container-id-2 div.sk-estimator:hover {background-color: #d4ebff;}#sk-container-id-2 div.sk-parallel-item::after {content: \"\";width: 100%;border-bottom: 1px solid gray;flex-grow: 1;}#sk-container-id-2 div.sk-label:hover label.sk-toggleable__label {background-color: #d4ebff;}#sk-container-id-2 div.sk-serial::before {content: \"\";position: absolute;border-left: 1px solid gray;box-sizing: border-box;top: 0;bottom: 0;left: 50%;z-index: 0;}#sk-container-id-2 div.sk-serial {display: flex;flex-direction: column;align-items: center;background-color: white;padding-right: 0.2em;padding-left: 0.2em;position: relative;}#sk-container-id-2 div.sk-item {position: relative;z-index: 1;}#sk-container-id-2 div.sk-parallel {display: flex;align-items: stretch;justify-content: center;background-color: white;position: relative;}#sk-container-id-2 div.sk-item::before, #sk-container-id-2 div.sk-parallel-item::before {content: \"\";position: absolute;border-left: 1px solid gray;box-sizing: border-box;top: 0;bottom: 0;left: 50%;z-index: -1;}#sk-container-id-2 div.sk-parallel-item {display: flex;flex-direction: column;z-index: 1;position: relative;background-color: white;}#sk-container-id-2 div.sk-parallel-item:first-child::after {align-self: flex-end;width: 50%;}#sk-container-id-2 div.sk-parallel-item:last-child::after {align-self: flex-start;width: 50%;}#sk-container-id-2 div.sk-parallel-item:only-child::after {width: 0;}#sk-container-id-2 div.sk-dashed-wrapped {border: 1px dashed gray;margin: 0 0.4em 0.5em 0.4em;box-sizing: border-box;padding-bottom: 0.4em;background-color: white;}#sk-container-id-2 div.sk-label label {font-family: monospace;font-weight: bold;display: inline-block;line-height: 1.2em;}#sk-container-id-2 div.sk-label-container {text-align: center;}#sk-container-id-2 div.sk-container {/* jupyter's `normalize.less` sets `[hidden] { display: none; }` but bootstrap.min.css set `[hidden] { display: none !important; }` so we also need the `!important` here to be able to override the default hidden behavior on the sphinx rendered scikit-learn.org. See: https://github.com/scikit-learn/scikit-learn/issues/21755 */display: inline-block !important;position: relative;}#sk-container-id-2 div.sk-text-repr-fallback {display: none;}</style><div id=\"sk-container-id-2\" class=\"sk-top-container\"><div class=\"sk-text-repr-fallback\"><pre>Ridge(alpha=0.5)</pre><b>In a Jupyter environment, please rerun this cell to show the HTML representation or trust the notebook. <br />On GitHub, the HTML representation is unable to render, please try loading this page with nbviewer.org.</b></div><div class=\"sk-container\" hidden><div class=\"sk-item\"><div class=\"sk-estimator sk-toggleable\"><input class=\"sk-toggleable__control sk-hidden--visually\" id=\"sk-estimator-id-2\" type=\"checkbox\" checked><label for=\"sk-estimator-id-2\" class=\"sk-toggleable__label sk-toggleable__label-arrow\">Ridge</label><div class=\"sk-toggleable__content\"><pre>Ridge(alpha=0.5)</pre></div></div></div></div></div>"
      ],
      "text/plain": [
       "Ridge(alpha=0.5)"
      ]
     },
     "execution_count": 53,
     "metadata": {},
     "output_type": "execute_result"
    }
   ],
   "source": [
    "lm_r = Ridge(alpha = 0.5)\n",
    "lm_r.fit(x_train_s, y_train)"
   ]
  },
  {
   "cell_type": "code",
   "execution_count": 54,
   "id": "3237014f",
   "metadata": {},
   "outputs": [
    {
     "data": {
      "text/plain": [
       "0.5356201631450692"
      ]
     },
     "execution_count": 54,
     "metadata": {},
     "output_type": "execute_result"
    }
   ],
   "source": [
    "r2_score(y_test, lm_r.predict(x_test_s))"
   ]
  },
  {
   "cell_type": "markdown",
   "id": "c425e0f1",
   "metadata": {},
   "source": [
    "* The r2 score is almost same to the OLS model. So we use the validation curve to find the best value for lamda"
   ]
  },
  {
   "cell_type": "code",
   "execution_count": 55,
   "id": "f86c0289",
   "metadata": {},
   "outputs": [],
   "source": [
    "from sklearn.model_selection import validation_curve"
   ]
  },
  {
   "cell_type": "markdown",
   "id": "ed6f2ab6",
   "metadata": {},
   "source": [
    "* We create a range for parameters"
   ]
  },
  {
   "cell_type": "code",
   "execution_count": 56,
   "id": "0a1c47cb",
   "metadata": {},
   "outputs": [],
   "source": [
    "param_range = np.logspace(-2,8,100)"
   ]
  },
  {
   "cell_type": "code",
   "execution_count": 57,
   "id": "b7d32125",
   "metadata": {},
   "outputs": [
    {
     "data": {
      "text/plain": [
       "array([1.00000000e-02, 1.26185688e-02, 1.59228279e-02, 2.00923300e-02,\n",
       "       2.53536449e-02, 3.19926714e-02, 4.03701726e-02, 5.09413801e-02,\n",
       "       6.42807312e-02, 8.11130831e-02, 1.02353102e-01, 1.29154967e-01,\n",
       "       1.62975083e-01, 2.05651231e-01, 2.59502421e-01, 3.27454916e-01,\n",
       "       4.13201240e-01, 5.21400829e-01, 6.57933225e-01, 8.30217568e-01,\n",
       "       1.04761575e+00, 1.32194115e+00, 1.66810054e+00, 2.10490414e+00,\n",
       "       2.65608778e+00, 3.35160265e+00, 4.22924287e+00, 5.33669923e+00,\n",
       "       6.73415066e+00, 8.49753436e+00, 1.07226722e+01, 1.35304777e+01,\n",
       "       1.70735265e+01, 2.15443469e+01, 2.71858824e+01, 3.43046929e+01,\n",
       "       4.32876128e+01, 5.46227722e+01, 6.89261210e+01, 8.69749003e+01,\n",
       "       1.09749877e+02, 1.38488637e+02, 1.74752840e+02, 2.20513074e+02,\n",
       "       2.78255940e+02, 3.51119173e+02, 4.43062146e+02, 5.59081018e+02,\n",
       "       7.05480231e+02, 8.90215085e+02, 1.12332403e+03, 1.41747416e+03,\n",
       "       1.78864953e+03, 2.25701972e+03, 2.84803587e+03, 3.59381366e+03,\n",
       "       4.53487851e+03, 5.72236766e+03, 7.22080902e+03, 9.11162756e+03,\n",
       "       1.14975700e+04, 1.45082878e+04, 1.83073828e+04, 2.31012970e+04,\n",
       "       2.91505306e+04, 3.67837977e+04, 4.64158883e+04, 5.85702082e+04,\n",
       "       7.39072203e+04, 9.32603347e+04, 1.17681195e+05, 1.48496826e+05,\n",
       "       1.87381742e+05, 2.36448941e+05, 2.98364724e+05, 3.76493581e+05,\n",
       "       4.75081016e+05, 5.99484250e+05, 7.56463328e+05, 9.54548457e+05,\n",
       "       1.20450354e+06, 1.51991108e+06, 1.91791026e+06, 2.42012826e+06,\n",
       "       3.05385551e+06, 3.85352859e+06, 4.86260158e+06, 6.13590727e+06,\n",
       "       7.74263683e+06, 9.77009957e+06, 1.23284674e+07, 1.55567614e+07,\n",
       "       1.96304065e+07, 2.47707636e+07, 3.12571585e+07, 3.94420606e+07,\n",
       "       4.97702356e+07, 6.28029144e+07, 7.92482898e+07, 1.00000000e+08])"
      ]
     },
     "execution_count": 57,
     "metadata": {},
     "output_type": "execute_result"
    }
   ],
   "source": [
    "param_range"
   ]
  },
  {
   "cell_type": "markdown",
   "id": "81bd7462",
   "metadata": {},
   "source": [
    "* Split train-test data and fit it into the validation curve"
   ]
  },
  {
   "cell_type": "code",
   "execution_count": 58,
   "id": "0911bb54",
   "metadata": {},
   "outputs": [],
   "source": [
    "train_scores, test_scores = validation_curve(Ridge(), x_train_s, y_train, param_name=\"alpha\", param_range=param_range, scoring='r2')"
   ]
  },
  {
   "cell_type": "code",
   "execution_count": 59,
   "id": "8c90aef6",
   "metadata": {},
   "outputs": [
    {
     "name": "stdout",
     "output_type": "stream",
     "text": [
      "[[5.25977338e-01 5.32965971e-01 5.39425581e-01 5.37546184e-01\n",
      "  5.30105178e-01]\n",
      " [5.25977338e-01 5.32965971e-01 5.39425581e-01 5.37546184e-01\n",
      "  5.30105178e-01]\n",
      " [5.25977338e-01 5.32965971e-01 5.39425581e-01 5.37546184e-01\n",
      "  5.30105178e-01]\n",
      " [5.25977338e-01 5.32965970e-01 5.39425581e-01 5.37546184e-01\n",
      "  5.30105178e-01]\n",
      " [5.25977338e-01 5.32965970e-01 5.39425581e-01 5.37546183e-01\n",
      "  5.30105178e-01]\n",
      " [5.25977338e-01 5.32965970e-01 5.39425581e-01 5.37546183e-01\n",
      "  5.30105178e-01]\n",
      " [5.25977338e-01 5.32965970e-01 5.39425580e-01 5.37546183e-01\n",
      "  5.30105177e-01]\n",
      " [5.25977337e-01 5.32965969e-01 5.39425580e-01 5.37546182e-01\n",
      "  5.30105177e-01]\n",
      " [5.25977336e-01 5.32965969e-01 5.39425579e-01 5.37546182e-01\n",
      "  5.30105176e-01]\n",
      " [5.25977335e-01 5.32965968e-01 5.39425578e-01 5.37546180e-01\n",
      "  5.30105175e-01]\n",
      " [5.25977333e-01 5.32965966e-01 5.39425576e-01 5.37546178e-01\n",
      "  5.30105173e-01]\n",
      " [5.25977330e-01 5.32965963e-01 5.39425573e-01 5.37546175e-01\n",
      "  5.30105170e-01]\n",
      " [5.25977325e-01 5.32965958e-01 5.39425569e-01 5.37546170e-01\n",
      "  5.30105165e-01]\n",
      " [5.25977318e-01 5.32965951e-01 5.39425562e-01 5.37546162e-01\n",
      "  5.30105157e-01]\n",
      " [5.25977305e-01 5.32965940e-01 5.39425550e-01 5.37546149e-01\n",
      "  5.30105144e-01]\n",
      " [5.25977286e-01 5.32965921e-01 5.39425532e-01 5.37546129e-01\n",
      "  5.30105124e-01]\n",
      " [5.25977255e-01 5.32965892e-01 5.39425503e-01 5.37546097e-01\n",
      "  5.30105091e-01]\n",
      " [5.25977205e-01 5.32965845e-01 5.39425456e-01 5.37546045e-01\n",
      "  5.30105040e-01]\n",
      " [5.25977127e-01 5.32965771e-01 5.39425382e-01 5.37545963e-01\n",
      "  5.30104958e-01]\n",
      " [5.25977002e-01 5.32965652e-01 5.39425264e-01 5.37545833e-01\n",
      "  5.30104828e-01]\n",
      " [5.25976802e-01 5.32965464e-01 5.39425077e-01 5.37545625e-01\n",
      "  5.30104621e-01]\n",
      " [5.25976485e-01 5.32965164e-01 5.39424779e-01 5.37545295e-01\n",
      "  5.30104291e-01]\n",
      " [5.25975981e-01 5.32964687e-01 5.39424304e-01 5.37544770e-01\n",
      "  5.30103766e-01]\n",
      " [5.25975178e-01 5.32963929e-01 5.39423549e-01 5.37543935e-01\n",
      "  5.30102932e-01]\n",
      " [5.25973903e-01 5.32962722e-01 5.39422349e-01 5.37542607e-01\n",
      "  5.30101605e-01]\n",
      " [5.25971875e-01 5.32960805e-01 5.39420442e-01 5.37540496e-01\n",
      "  5.30099496e-01]\n",
      " [5.25968655e-01 5.32957759e-01 5.39417411e-01 5.37537143e-01\n",
      "  5.30096147e-01]\n",
      " [5.25963541e-01 5.32952923e-01 5.39412599e-01 5.37531819e-01\n",
      "  5.30090829e-01]\n",
      " [5.25955428e-01 5.32945249e-01 5.39404963e-01 5.37523373e-01\n",
      "  5.30082394e-01]\n",
      " [5.25942570e-01 5.32933085e-01 5.39392858e-01 5.37509988e-01\n",
      "  5.30069025e-01]\n",
      " [5.25922214e-01 5.32913824e-01 5.39373691e-01 5.37488799e-01\n",
      "  5.30047866e-01]\n",
      " [5.25890038e-01 5.32883371e-01 5.39343386e-01 5.37455308e-01\n",
      "  5.30014425e-01]\n",
      " [5.25839272e-01 5.32835310e-01 5.39295554e-01 5.37402474e-01\n",
      "  5.29961678e-01]\n",
      " [5.25759366e-01 5.32759633e-01 5.39220233e-01 5.37319324e-01\n",
      "  5.29878679e-01]\n",
      " [5.25633964e-01 5.32640814e-01 5.39101961e-01 5.37188853e-01\n",
      "  5.29748474e-01]\n",
      " [5.25437888e-01 5.32454923e-01 5.38916903e-01 5.36984892e-01\n",
      "  5.29544987e-01]\n",
      " [5.25132715e-01 5.32165394e-01 5.38628629e-01 5.36667528e-01\n",
      "  5.29228467e-01]\n",
      " [5.24660449e-01 5.31716939e-01 5.38182031e-01 5.36176551e-01\n",
      "  5.28738998e-01]\n",
      " [5.23934748e-01 5.31027066e-01 5.37494856e-01 5.35422388e-01\n",
      "  5.27987532e-01]\n",
      " [5.22829270e-01 5.29974739e-01 5.36446339e-01 5.34274094e-01\n",
      "  5.26844034e-01]\n",
      " [5.21163096e-01 5.28386046e-01 5.34862832e-01 5.32544377e-01\n",
      "  5.25122771e-01]\n",
      " [5.18684101e-01 5.26017578e-01 5.32501062e-01 5.29972604e-01\n",
      "  5.22565700e-01]\n",
      " [5.15052727e-01 5.22539722e-01 5.29031197e-01 5.26208381e-01\n",
      "  5.18826561e-01]\n",
      " [5.09831000e-01 5.17524374e-01 5.24024166e-01 5.20800764e-01\n",
      "  5.13460705e-01]\n",
      " [5.02484432e-01 5.10444354e-01 5.16950496e-01 5.13200968e-01\n",
      "  5.05928341e-01]\n",
      " [4.92406453e-01 5.00694113e-01 5.07200268e-01 5.02788445e-01\n",
      "  4.95620797e-01]\n",
      " [4.78974326e-01 4.87641110e-01 4.94133749e-01 4.88929267e-01\n",
      "  4.81918277e-01]\n",
      " [4.61639582e-01 4.70712209e-01 4.77167354e-01 4.71069501e-01\n",
      "  4.64281392e-01]\n",
      " [4.40044056e-01 4.49508188e-01 4.55888497e-01 4.48853869e-01\n",
      "  4.42366731e-01]\n",
      " [4.14137259e-01 4.23924181e-01 4.30177542e-01 4.22244474e-01\n",
      "  4.16141818e-01]\n",
      " [3.84259420e-01 3.94241187e-01 4.00302018e-01 3.91603154e-01\n",
      "  3.85964349e-01]\n",
      " [3.51156000e-01 3.61152890e-01 3.66946808e-01 3.57703223e-01\n",
      "  3.52592897e-01]\n",
      " [3.15907693e-01 3.25707962e-01 3.31159373e-01 3.21655372e-01\n",
      "  3.17114679e-01]\n",
      " [2.79788801e-01 2.89176209e-01 2.94217251e-01 2.84761837e-01\n",
      "  2.80804001e-01]\n",
      " [2.44092037e-01 2.52873861e-01 2.57452489e-01 2.48338036e-01\n",
      "  2.44949019e-01]\n",
      " [2.09966502e-01 2.17995048e-01 2.22080342e-01 2.13548919e-01\n",
      "  2.10692347e-01]\n",
      " [1.78304990e-01 1.85488600e-01 1.89072377e-01 1.81296161e-01\n",
      "  1.78920523e-01]\n",
      " [1.49695105e-01 1.55998456e-01 1.59093410e-01 1.52170190e-01\n",
      "  1.50216276e-01]\n",
      " [1.24427733e-01 1.29864061e-01 1.32499525e-01 1.26460082e-01\n",
      "  1.24867209e-01]\n",
      " [1.02544131e-01 1.07163165e-01 1.09379823e-01 1.04202145e-01\n",
      "  1.02912562e-01]\n",
      " [8.39005402e-02 8.77755640e-02 8.96202640e-02 8.52458517e-02\n",
      "  8.42073387e-02]\n",
      " [6.82335416e-02 7.14498885e-02 7.29712891e-02 6.93202338e-02\n",
      "  6.84872592e-02]\n",
      " [5.52160318e-02 5.78621267e-02 5.91074799e-02 5.60905839e-02\n",
      "  5.54244727e-02]\n",
      " [4.44997078e-02 4.66608612e-02 4.76739252e-02 4.52014109e-02\n",
      "  4.46699274e-02]\n",
      " [3.57440396e-02 3.74986661e-02 3.83185694e-02 3.63056761e-02\n",
      "  3.58823155e-02]\n",
      " [2.86338337e-02 3.00515512e-02 3.07123679e-02 2.90824706e-02\n",
      "  2.87456542e-02]\n",
      " [2.28881924e-02 2.40292400e-02 2.45600452e-02 2.32459919e-02\n",
      "  2.29782757e-02]\n",
      " [1.82635460e-02 1.91790446e-02 1.96042595e-02 1.85485339e-02\n",
      "  1.83358891e-02]\n",
      " [1.45529509e-02 1.52856417e-02 1.56255274e-02 1.47797105e-02\n",
      "  1.46108968e-02]\n",
      " [1.15832718e-02 1.21684811e-02 1.24396855e-02 1.17635517e-02\n",
      "  1.16295877e-02]\n",
      " [9.21136037e-03 9.67802507e-03 9.89412406e-03 9.35459366e-03\n",
      "  9.24831719e-03]\n",
      " [7.31993781e-03 7.69159558e-03 7.86359363e-03 7.43367774e-03\n",
      "  7.34938602e-03]\n",
      " [5.81359974e-03 6.10929150e-03 6.24606680e-03 5.90388169e-03\n",
      "  5.83703888e-03]\n",
      " [4.61516602e-03 4.85022856e-03 4.95891717e-03 4.68680427e-03\n",
      "  4.63380571e-03]\n",
      " [3.66247056e-03 3.84921513e-03 3.93553596e-03 3.71930014e-03\n",
      "  3.67728302e-03]\n",
      " [2.90561149e-03 3.05389417e-03 3.12241975e-03 2.95068415e-03\n",
      "  2.91737589e-03]\n",
      " [2.30463936e-03 2.42233395e-03 2.47671347e-03 2.34038143e-03\n",
      "  2.31397870e-03]\n",
      " [1.82764001e-03 1.92102619e-03 1.96416770e-03 1.85597930e-03\n",
      "  1.83505153e-03]\n",
      " [1.44916107e-03 1.52324051e-03 1.55745877e-03 1.47162847e-03\n",
      "  1.45504102e-03]\n",
      " [1.14893044e-03 1.20768271e-03 1.23481856e-03 1.16674112e-03\n",
      "  1.15359426e-03]\n",
      " [9.10818862e-04 9.57407689e-04 9.78923991e-04 9.24937075e-04\n",
      "  9.14517415e-04]\n",
      " [7.22003881e-04 7.58942742e-04 7.76001338e-04 7.33194557e-04\n",
      "  7.24936528e-04]\n",
      " [5.72298568e-04 6.01583302e-04 6.15106531e-04 5.81168389e-04\n",
      "  5.74623650e-04]\n",
      " [4.53614001e-04 4.76828764e-04 4.87548572e-04 4.60644063e-04\n",
      "  4.55457224e-04]\n",
      " [3.59529818e-04 3.77931590e-04 3.86428664e-04 3.65101576e-04\n",
      "  3.60990940e-04]\n",
      " [2.84951686e-04 2.99537582e-04 3.06272505e-04 2.89367556e-04\n",
      "  2.86109850e-04]\n",
      " [2.25838467e-04 2.37399304e-04 2.42737329e-04 2.29338187e-04\n",
      "  2.26756450e-04]\n",
      " [1.78985138e-04 1.88148011e-04 1.92378754e-04 1.81758744e-04\n",
      "  1.79712723e-04]\n",
      " [1.41850208e-04 1.49112324e-04 1.52465396e-04 1.44048329e-04\n",
      "  1.42426868e-04]\n",
      " [1.12418604e-04 1.18174144e-04 1.20831573e-04 1.14160631e-04\n",
      "  1.12875636e-04]\n",
      " [8.90927978e-05 9.36542393e-05 9.57603181e-05 9.04733589e-05\n",
      "  8.94550130e-05]\n",
      " [7.06063884e-05 7.42214252e-05 7.58905264e-05 7.17004808e-05\n",
      "  7.08934531e-05]\n",
      " [5.59555296e-05 5.88204927e-05 6.01432708e-05 5.68225925e-05\n",
      "  5.61830332e-05]\n",
      " [4.43445378e-05 4.66150401e-05 4.76633466e-05 4.50316788e-05\n",
      "  4.45248366e-05]\n",
      " [3.51427511e-05 3.69421280e-05 3.77729103e-05 3.56873038e-05\n",
      "  3.52856386e-05]\n",
      " [2.78503201e-05 2.92763224e-05 2.99347140e-05 2.82818722e-05\n",
      "  2.79635584e-05]\n",
      " [2.20710851e-05 2.32011844e-05 2.37229553e-05 2.24130848e-05\n",
      "  2.21608260e-05]\n",
      " [1.74910722e-05 1.83866672e-05 1.88001660e-05 1.77621025e-05\n",
      "  1.75621913e-05]\n",
      " [1.38614477e-05 1.45711980e-05 1.48988914e-05 1.40762353e-05\n",
      "  1.39178090e-05]\n",
      " [1.09850055e-05 1.15474747e-05 1.18071678e-05 1.11552215e-05\n",
      "  1.10296712e-05]]\n",
      "[[ 5.55634153e-01  5.27780577e-01  4.98125635e-01  5.14286975e-01\n",
      "   5.31057117e-01]\n",
      " [ 5.55634222e-01  5.27780594e-01  4.98125605e-01  5.14286945e-01\n",
      "   5.31057152e-01]\n",
      " [ 5.55634310e-01  5.27780616e-01  4.98125567e-01  5.14286908e-01\n",
      "   5.31057195e-01]\n",
      " [ 5.55634421e-01  5.27780643e-01  4.98125519e-01  5.14286860e-01\n",
      "   5.31057250e-01]\n",
      " [ 5.55634560e-01  5.27780677e-01  4.98125458e-01  5.14286801e-01\n",
      "   5.31057319e-01]\n",
      " [ 5.55634737e-01  5.27780720e-01  4.98125382e-01  5.14286725e-01\n",
      "   5.31057406e-01]\n",
      " [ 5.55634959e-01  5.27780775e-01  4.98125286e-01  5.14286630e-01\n",
      "   5.31057515e-01]\n",
      " [ 5.55635239e-01  5.27780844e-01  4.98125164e-01  5.14286510e-01\n",
      "   5.31057654e-01]\n",
      " [ 5.55635593e-01  5.27780930e-01  4.98125011e-01  5.14286359e-01\n",
      "   5.31057828e-01]\n",
      " [ 5.55636039e-01  5.27781040e-01  4.98124816e-01  5.14286167e-01\n",
      "   5.31058048e-01]\n",
      " [ 5.55636601e-01  5.27781177e-01  4.98124571e-01  5.14285925e-01\n",
      "   5.31058325e-01]\n",
      " [ 5.55637309e-01  5.27781349e-01  4.98124261e-01  5.14285619e-01\n",
      "   5.31058673e-01]\n",
      " [ 5.55638202e-01  5.27781566e-01  4.98123869e-01  5.14285232e-01\n",
      "   5.31059112e-01]\n",
      " [ 5.55639327e-01  5.27781838e-01  4.98123373e-01  5.14284743e-01\n",
      "   5.31059664e-01]\n",
      " [ 5.55640744e-01  5.27782179e-01  4.98122745e-01  5.14284122e-01\n",
      "   5.31060357e-01]\n",
      " [ 5.55642527e-01  5.27782606e-01  4.98121949e-01  5.14283335e-01\n",
      "   5.31061227e-01]\n",
      " [ 5.55644769e-01  5.27783137e-01  4.98120940e-01  5.14282336e-01\n",
      "   5.31062317e-01]\n",
      " [ 5.55647587e-01  5.27783798e-01  4.98119657e-01  5.14281065e-01\n",
      "   5.31063681e-01]\n",
      " [ 5.55651124e-01  5.27784617e-01  4.98118025e-01  5.14279446e-01\n",
      "   5.31065382e-01]\n",
      " [ 5.55655556e-01  5.27785624e-01  4.98115943e-01  5.14277379e-01\n",
      "   5.31067499e-01]\n",
      " [ 5.55661102e-01  5.27786856e-01  4.98113281e-01  5.14274731e-01\n",
      "   5.31070122e-01]\n",
      " [ 5.55668025e-01  5.27788346e-01  4.98109867e-01  5.14271327e-01\n",
      "   5.31073355e-01]\n",
      " [ 5.55676639e-01  5.27790127e-01  4.98105471e-01  5.14266932e-01\n",
      "   5.31077312e-01]\n",
      " [ 5.55687318e-01  5.27792213e-01  4.98099783e-01  5.14261228e-01\n",
      "   5.31082112e-01]\n",
      " [ 5.55700489e-01  5.27794591e-01  4.98092385e-01  5.14253781e-01\n",
      "   5.31087860e-01]\n",
      " [ 5.55716626e-01  5.27797189e-01  4.98082695e-01  5.14243985e-01\n",
      "   5.31094625e-01]\n",
      " [ 5.55736223e-01  5.27799827e-01  4.98069909e-01  5.14230994e-01\n",
      "   5.31102386e-01]\n",
      " [ 5.55759739e-01  5.27802141e-01  4.98052889e-01  5.14213601e-01\n",
      "   5.31110951e-01]\n",
      " [ 5.55787494e-01  5.27803457e-01  4.98030009e-01  5.14190074e-01\n",
      "   5.31119818e-01]\n",
      " [ 5.55819486e-01  5.27802583e-01  4.97998923e-01  5.14157893e-01\n",
      "   5.31127940e-01]\n",
      " [ 5.55855078e-01  5.27797484e-01  4.97956205e-01  5.14113354e-01\n",
      "   5.31133361e-01]\n",
      " [ 5.55892481e-01  5.27784768e-01  4.97896813e-01  5.14050980e-01\n",
      "   5.31132617e-01]\n",
      " [ 5.55927913e-01  5.27758877e-01  4.97813270e-01  5.13962610e-01\n",
      "   5.31119807e-01]\n",
      " [ 5.55954270e-01  5.27710845e-01  4.97694438e-01  5.13836042e-01\n",
      "   5.31085145e-01]\n",
      " [ 5.55959050e-01  5.27626389e-01  4.97523676e-01  5.13652999e-01\n",
      "   5.31012750e-01]\n",
      " [ 5.55921187e-01  5.27483047e-01  4.97276123e-01  5.13386126e-01\n",
      "   5.30877311e-01]\n",
      " [ 5.55806326e-01  5.27245945e-01  4.96914733e-01  5.12994636e-01\n",
      "   5.30639197e-01]\n",
      " [ 5.55559963e-01  5.26861689e-01  4.96384622e-01  5.12418120e-01\n",
      "   5.30237429e-01]\n",
      " [ 5.55097801e-01  5.26249830e-01  4.95605231e-01  5.11568040e-01\n",
      "   5.29579944e-01]\n",
      " [ 5.54292796e-01  5.25291390e-01  4.94459890e-01  5.10316517e-01\n",
      "   5.28530706e-01]\n",
      " [ 5.52958755e-01  5.23814330e-01  4.92782678e-01  5.08482425e-01\n",
      "   5.26893692e-01]\n",
      " [ 5.50831330e-01  5.21576606e-01  4.90343237e-01  5.05815731e-01\n",
      "   5.24394838e-01]\n",
      " [ 5.47549034e-01  5.18249029e-01  4.86831562e-01  5.01982532e-01\n",
      "   5.20664831e-01]\n",
      " [ 5.42639533e-01  5.13402417e-01  4.81846911e-01  4.96555553e-01\n",
      "   5.15228260e-01]\n",
      " [ 5.35519639e-01  5.06506424e-01  4.74897502e-01  4.89017486e-01\n",
      "   5.07507543e-01]\n",
      " [ 5.25519856e-01  4.96949732e-01  4.65419831e-01  4.78786339e-01\n",
      "   4.96851960e-01]\n",
      " [ 5.11943721e-01  4.84091207e-01  4.52826257e-01  4.65271026e-01\n",
      "   4.82600721e-01]\n",
      " [ 4.94165972e-01  4.67346595e-01  4.36584970e-01  4.47959505e-01\n",
      "   4.64182058e-01]\n",
      " [ 4.71760433e-01  4.46304046e-01  4.16326152e-01  4.26530120e-01\n",
      "   4.41237130e-01]\n",
      " [ 4.44631430e-01  4.20846256e-01  3.91954026e-01  4.00962293e-01\n",
      "   4.13741638e-01]\n",
      " [ 4.13109439e-01  3.91244086e-01  3.63732627e-01  3.71612414e-01\n",
      "   3.82087450e-01]\n",
      " [ 3.77972527e-01  3.58185321e-01  3.32311912e-01  3.39222997e-01\n",
      "   3.47089935e-01]\n",
      " [ 3.40374646e-01  3.22718144e-01  2.98675274e-01  3.04851253e-01\n",
      "   3.09907190e-01]\n",
      " [ 3.01693557e-01  2.86117273e-01  2.64015551e-01  2.69730757e-01\n",
      "   2.71887338e-01]\n",
      " [ 2.63339447e-01  2.49708087e-01  2.29571883e-01  2.35103270e-01\n",
      "   2.34384829e-01]\n",
      " [ 2.26575698e-01  2.14696212e-01  1.96471265e-01  2.02065167e-01\n",
      "   1.98593838e-01]\n",
      " [ 1.92392338e-01  1.82042312e-01  1.65611748e-01  1.71462158e-01\n",
      "   1.65434742e-01]\n",
      " [ 1.61449110e-01  1.52400880e-01  1.37605039e-01  1.43845200e-01\n",
      "   1.35507078e-01]\n",
      " [ 1.34081868e-01  1.26119683e-01  1.12775636e-01  1.19480764e-01\n",
      "   1.09101254e-01]\n",
      " [ 1.10352166e-01  1.03282245e-01  9.12003063e-02  9.83972907e-02\n",
      "   8.62492384e-02]\n",
      " [ 9.01169315e-02  8.37717640e-02  7.27677817e-02  8.04477218e-02\n",
      "   6.67924966e-02]\n",
      " [ 7.30996430e-02  6.73383437e-02  5.72417321e-02  6.53722304e-02\n",
      "   5.04500556e-02]\n",
      " [ 5.89516801e-02  5.36580385e-02  4.43161854e-02  5.28516845e-02\n",
      "   3.68764846e-02]\n",
      " [ 4.72991253e-02  4.23785824e-02  3.36585184e-02  4.25480666e-02\n",
      "   2.57057336e-02]\n",
      " [ 3.77748512e-02  3.31511833e-02  2.49393900e-02  3.41319287e-02\n",
      "   1.65809221e-02]\n",
      " [ 3.00381072e-02  2.56502587e-02  1.78513468e-02  2.72989487e-02\n",
      "   9.17231387e-03]\n",
      " [ 2.37846395e-02  1.95839089e-02  1.21187090e-02  2.17782935e-02\n",
      "   3.18640771e-03]\n",
      " [ 1.87502642e-02  1.46979094e-02  7.50135024e-03  1.73353533e-02\n",
      "  -1.63107602e-03]\n",
      " [ 1.47102959e-02  1.07755504e-02  3.79455535e-03  1.37709422e-02\n",
      "  -5.49604627e-03]\n",
      " [ 1.14766130e-02  7.63506961e-03  8.26606328e-04  1.09185063e-02\n",
      "  -8.58905559e-03]\n",
      " [ 8.89358646e-03  5.12589490e-03 -1.54475990e-03  8.64039560e-03\n",
      "  -1.10593333e-02]\n",
      " [ 6.83365525e-03  3.12447987e-03 -3.43627985e-03  6.82387155e-03\n",
      "  -1.30291084e-02]\n",
      " [ 5.19301491e-03  1.53020404e-03 -4.94303300e-03  5.37724581e-03\n",
      "  -1.45977918e-02]\n",
      " [ 3.88766723e-03  2.61592945e-04 -6.14201062e-03  4.22635846e-03\n",
      "  -1.58457925e-02]\n",
      " [ 2.84994019e-03 -7.47025616e-04 -7.09527349e-03  3.31148495e-03\n",
      "  -1.68378694e-02]\n",
      " [ 2.02550329e-03 -1.54839774e-03 -7.85266855e-03  2.58468886e-03\n",
      "  -1.76260011e-02]\n",
      " [ 1.37085605e-03 -2.18476868e-03 -8.45412002e-03  2.00759765e-03\n",
      "  -1.82517961e-02]\n",
      " [ 8.51244029e-04 -2.68989848e-03 -8.93153367e-03  1.54955911e-03\n",
      "  -1.87484923e-02]\n",
      " [ 4.38947394e-04 -3.09071912e-03 -9.31036267e-03  1.18612868e-03\n",
      "  -1.91425965e-02]\n",
      " [ 1.11886707e-04 -3.40868588e-03 -9.61088439e-03  8.97837839e-04\n",
      "  -1.94552198e-02]\n",
      " [-1.47506172e-04 -3.66087237e-03 -9.84923527e-03  6.69197194e-04\n",
      "  -1.97031586e-02]\n",
      " [-3.53198125e-04 -3.86085362e-03 -1.00382453e-02  4.87893337e-04\n",
      "  -1.98997654e-02]\n",
      " [-5.16285634e-04 -4.01941566e-03 -1.01881086e-02  3.44143960e-04\n",
      "  -2.00556481e-02]\n",
      " [-6.45580065e-04 -4.14512383e-03 -1.03069205e-02  2.30181572e-04\n",
      "  -2.01792297e-02]\n",
      " [-7.48075338e-04 -4.24477712e-03 -1.04011070e-02  1.39841017e-04\n",
      "  -2.02771956e-02]\n",
      " [-8.29320972e-04 -4.32377057e-03 -1.04757670e-02  6.82305147e-05\n",
      "  -2.03548506e-02]\n",
      " [-8.93719238e-04 -4.38638404e-03 -1.05349457e-02  1.14696372e-05\n",
      "  -2.04164026e-02]\n",
      " [-9.44761610e-04 -4.43601201e-03 -1.05818512e-02 -3.35191585e-05\n",
      "  -2.04651888e-02]\n",
      " [-9.85216745e-04 -4.47534626e-03 -1.06190277e-02 -6.91762629e-05\n",
      "  -2.05038557e-02]\n",
      " [-1.01727984e-03 -4.50652109e-03 -1.06484924e-02 -9.74365799e-05\n",
      "  -2.05345014e-02]\n",
      " [-1.04269124e-03 -4.53122856e-03 -1.06718445e-02 -1.19834076e-04\n",
      "  -2.05587895e-02]\n",
      " [-1.06283057e-03 -4.55081002e-03 -1.06903518e-02 -1.37584762e-04\n",
      "  -2.05780385e-02]\n",
      " [-1.07879140e-03 -4.56632877e-03 -1.07050192e-02 -1.51652539e-04\n",
      "  -2.05932937e-02]\n",
      " [-1.09144057e-03 -4.57862760e-03 -1.07166434e-02 -1.62801428e-04\n",
      "  -2.06053836e-02]\n",
      " [-1.10146513e-03 -4.58837451e-03 -1.07258556e-02 -1.71636993e-04\n",
      "  -2.06149650e-02]\n",
      " [-1.10940961e-03 -4.59609896e-03 -1.07331563e-02 -1.78639191e-04\n",
      "  -2.06225583e-02]\n",
      " [-1.11570559e-03 -4.60222057e-03 -1.07389421e-02 -1.84188416e-04\n",
      "  -2.06285759e-02]\n",
      " [-1.12069512e-03 -4.60707192e-03 -1.07435274e-02 -1.88586146e-04\n",
      "  -2.06333448e-02]\n",
      " [-1.12464929e-03 -4.61091658e-03 -1.07471611e-02 -1.92071313e-04\n",
      "  -2.06371242e-02]\n",
      " [-1.12778293e-03 -4.61396344e-03 -1.07500408e-02 -1.94833274e-04\n",
      "  -2.06401193e-02]]\n"
     ]
    }
   ],
   "source": [
    "print(train_scores)\n",
    "print(test_scores)"
   ]
  },
  {
   "cell_type": "code",
   "execution_count": 60,
   "id": "8209bf73",
   "metadata": {},
   "outputs": [],
   "source": [
    "train_mean = np.mean(train_scores, axis = 1)"
   ]
  },
  {
   "cell_type": "code",
   "execution_count": 61,
   "id": "f70d7a6a",
   "metadata": {},
   "outputs": [],
   "source": [
    "test_mean =np.mean(test_scores, axis=1)"
   ]
  },
  {
   "cell_type": "code",
   "execution_count": 62,
   "id": "163fa0b1",
   "metadata": {},
   "outputs": [
    {
     "data": {
      "text/plain": [
       "array([5.33204050e-01, 5.33204050e-01, 5.33204050e-01, 5.33204050e-01,\n",
       "       5.33204050e-01, 5.33204050e-01, 5.33204050e-01, 5.33204049e-01,\n",
       "       5.33204048e-01, 5.33204047e-01, 5.33204045e-01, 5.33204042e-01,\n",
       "       5.33204038e-01, 5.33204030e-01, 5.33204018e-01, 5.33203998e-01,\n",
       "       5.33203967e-01, 5.33203918e-01, 5.33203840e-01, 5.33203716e-01,\n",
       "       5.33203518e-01, 5.33203203e-01, 5.33202702e-01, 5.33201905e-01,\n",
       "       5.33200637e-01, 5.33198623e-01, 5.33195423e-01, 5.33190342e-01,\n",
       "       5.33182281e-01, 5.33169505e-01, 5.33149279e-01, 5.33117305e-01,\n",
       "       5.33066858e-01, 5.32987447e-01, 5.32862813e-01, 5.32667919e-01,\n",
       "       5.32364547e-01, 5.31894994e-01, 5.31173318e-01, 5.30073695e-01,\n",
       "       5.28415825e-01, 5.25948209e-01, 5.22331718e-01, 5.17128202e-01,\n",
       "       5.09801718e-01, 4.99742015e-01, 4.86319346e-01, 4.68974007e-01,\n",
       "       4.47332268e-01, 4.21325055e-01, 3.91274025e-01, 3.57910364e-01,\n",
       "       3.22309016e-01, 2.85749620e-01, 2.49541089e-01, 2.14856632e-01,\n",
       "       1.82616530e-01, 1.53434687e-01, 1.27623722e-01, 1.05240365e-01,\n",
       "       8.61499117e-02, 7.00924424e-02, 5.67401390e-02, 4.57411665e-02,\n",
       "       3.67498534e-02, 2.94451755e-02, 2.35403491e-02, 1.87862546e-02,\n",
       "       1.49709454e-02, 1.19169155e-02, 9.47728407e-03, 7.53163816e-03,\n",
       "       5.98197572e-03, 4.74898435e-03, 3.76876096e-03, 2.98999709e-03,\n",
       "       2.37160938e-03, 1.88077295e-03, 1.49130597e-03, 1.18235342e-03,\n",
       "       9.37321007e-04, 7.43015809e-04, 5.88956088e-04, 4.66818525e-04,\n",
       "       3.69996517e-04, 2.93247836e-04, 2.32413947e-04, 1.84196674e-04,\n",
       "       1.45980625e-04, 1.15692118e-04, 9.16871454e-05, 7.26624548e-05,\n",
       "       5.75849838e-05, 4.56358880e-05, 3.61661463e-05, 2.86613574e-05,\n",
       "       2.27138271e-05, 1.80004398e-05, 1.42651163e-05, 1.13049081e-05])"
      ]
     },
     "execution_count": 62,
     "metadata": {},
     "output_type": "execute_result"
    }
   ],
   "source": [
    "train_mean"
   ]
  },
  {
   "cell_type": "code",
   "execution_count": 63,
   "id": "914028cd",
   "metadata": {},
   "outputs": [
    {
     "data": {
      "text/plain": [
       "0.525387867824179"
      ]
     },
     "execution_count": 63,
     "metadata": {},
     "output_type": "execute_result"
    }
   ],
   "source": [
    "max(test_mean)"
   ]
  },
  {
   "cell_type": "markdown",
   "id": "f7fb0f2a",
   "metadata": {},
   "source": [
    "* Plot the graph and find where the max value is"
   ]
  },
  {
   "cell_type": "code",
   "execution_count": 64,
   "id": "ef95ef1f",
   "metadata": {},
   "outputs": [
    {
     "data": {
      "text/plain": [
       "<seaborn.axisgrid.JointGrid at 0x16a0a7810>"
      ]
     },
     "execution_count": 64,
     "metadata": {},
     "output_type": "execute_result"
    },
    {
     "data": {
      "image/png": "[encoded data removed]",
      "text/plain": [
       "<Figure size 600x600 with 3 Axes>"
      ]
     },
     "metadata": {},
     "output_type": "display_data"
    }
   ],
   "source": [
    "sns.jointplot(x=np.log(param_range), y=test_mean)"
   ]
  },
  {
   "cell_type": "markdown",
   "id": "c3ee2073",
   "metadata": {},
   "source": [
    "* Find where the mean is max"
   ]
  },
  {
   "cell_type": "code",
   "execution_count": 65,
   "id": "67895f94",
   "metadata": {},
   "outputs": [
    {
     "data": {
      "text/plain": [
       "(array([26]),)"
      ]
     },
     "execution_count": 65,
     "metadata": {},
     "output_type": "execute_result"
    }
   ],
   "source": [
    "np.where(test_mean == max(test_mean))"
   ]
  },
  {
   "cell_type": "code",
   "execution_count": 66,
   "id": "ecca578f",
   "metadata": {},
   "outputs": [
    {
     "data": {
      "text/plain": [
       "4.229242874389499"
      ]
     },
     "execution_count": 66,
     "metadata": {},
     "output_type": "execute_result"
    }
   ],
   "source": [
    "param_range[26]"
   ]
  },
  {
   "cell_type": "code",
   "execution_count": 67,
   "id": "c4b03545",
   "metadata": {},
   "outputs": [],
   "source": [
    "lm_r_best = Ridge(alpha = param_range[26])"
   ]
  },
  {
   "cell_type": "code",
   "execution_count": 68,
   "id": "1c59fe1c",
   "metadata": {},
   "outputs": [
    {
     "data": {
      "text/html": [
       "<style>#sk-container-id-3 {color: black;background-color: white;}#sk-container-id-3 pre{padding: 0;}#sk-container-id-3 div.sk-toggleable {background-color: white;}#sk-container-id-3 label.sk-toggleable__label {cursor: pointer;display: block;width: 100%;margin-bottom: 0;padding: 0.3em;box-sizing: border-box;text-align: center;}#sk-container-id-3 label.sk-toggleable__label-arrow:before {content: \"▸\";float: left;margin-right: 0.25em;color: #696969;}#sk-container-id-3 label.sk-toggleable__label-arrow:hover:before {color: black;}#sk-container-id-3 div.sk-estimator:hover label.sk-toggleable__label-arrow:before {color: black;}#sk-container-id-3 div.sk-toggleable__content {max-height: 0;max-width: 0;overflow: hidden;text-align: left;background-color: #f0f8ff;}#sk-container-id-3 div.sk-toggleable__content pre {margin: 0.2em;color: black;border-radius: 0.25em;background-color: #f0f8ff;}#sk-container-id-3 input.sk-toggleable__control:checked~div.sk-toggleable__content {max-height: 200px;max-width: 100%;overflow: auto;}#sk-container-id-3 input.sk-toggleable__control:checked~label.sk-toggleable__label-arrow:before {content: \"▾\";}#sk-container-id-3 div.sk-estimator input.sk-toggleable__control:checked~label.sk-toggleable__label {background-color: #d4ebff;}#sk-container-id-3 div.sk-label input.sk-toggleable__control:checked~label.sk-toggleable__label {background-color: #d4ebff;}#sk-container-id-3 input.sk-hidden--visually {border: 0;clip: rect(1px 1px 1px 1px);clip: rect(1px, 1px, 1px, 1px);height: 1px;margin: -1px;overflow: hidden;padding: 0;position: absolute;width: 1px;}#sk-container-id-3 div.sk-estimator {font-family: monospace;background-color: #f0f8ff;border: 1px dotted black;border-radius: 0.25em;box-sizing: border-box;margin-bottom: 0.5em;}#sk-container-id-3 div.sk-estimator:hover {background-color: #d4ebff;}#sk-container-id-3 div.sk-parallel-item::after {content: \"\";width: 100%;border-bottom: 1px solid gray;flex-grow: 1;}#sk-container-id-3 div.sk-label:hover label.sk-toggleable__label {background-color: #d4ebff;}#sk-container-id-3 div.sk-serial::before {content: \"\";position: absolute;border-left: 1px solid gray;box-sizing: border-box;top: 0;bottom: 0;left: 50%;z-index: 0;}#sk-container-id-3 div.sk-serial {display: flex;flex-direction: column;align-items: center;background-color: white;padding-right: 0.2em;padding-left: 0.2em;position: relative;}#sk-container-id-3 div.sk-item {position: relative;z-index: 1;}#sk-container-id-3 div.sk-parallel {display: flex;align-items: stretch;justify-content: center;background-color: white;position: relative;}#sk-container-id-3 div.sk-item::before, #sk-container-id-3 div.sk-parallel-item::before {content: \"\";position: absolute;border-left: 1px solid gray;box-sizing: border-box;top: 0;bottom: 0;left: 50%;z-index: -1;}#sk-container-id-3 div.sk-parallel-item {display: flex;flex-direction: column;z-index: 1;position: relative;background-color: white;}#sk-container-id-3 div.sk-parallel-item:first-child::after {align-self: flex-end;width: 50%;}#sk-container-id-3 div.sk-parallel-item:last-child::after {align-self: flex-start;width: 50%;}#sk-container-id-3 div.sk-parallel-item:only-child::after {width: 0;}#sk-container-id-3 div.sk-dashed-wrapped {border: 1px dashed gray;margin: 0 0.4em 0.5em 0.4em;box-sizing: border-box;padding-bottom: 0.4em;background-color: white;}#sk-container-id-3 div.sk-label label {font-family: monospace;font-weight: bold;display: inline-block;line-height: 1.2em;}#sk-container-id-3 div.sk-label-container {text-align: center;}#sk-container-id-3 div.sk-container {/* jupyter's `normalize.less` sets `[hidden] { display: none; }` but bootstrap.min.css set `[hidden] { display: none !important; }` so we also need the `!important` here to be able to override the default hidden behavior on the sphinx rendered scikit-learn.org. See: https://github.com/scikit-learn/scikit-learn/issues/21755 */display: inline-block !important;position: relative;}#sk-container-id-3 div.sk-text-repr-fallback {display: none;}</style><div id=\"sk-container-id-3\" class=\"sk-top-container\"><div class=\"sk-text-repr-fallback\"><pre>Ridge(alpha=4.229242874389499)</pre><b>In a Jupyter environment, please rerun this cell to show the HTML representation or trust the notebook. <br />On GitHub, the HTML representation is unable to render, please try loading this page with nbviewer.org.</b></div><div class=\"sk-container\" hidden><div class=\"sk-item\"><div class=\"sk-estimator sk-toggleable\"><input class=\"sk-toggleable__control sk-hidden--visually\" id=\"sk-estimator-id-3\" type=\"checkbox\" checked><label for=\"sk-estimator-id-3\" class=\"sk-toggleable__label sk-toggleable__label-arrow\">Ridge</label><div class=\"sk-toggleable__content\"><pre>Ridge(alpha=4.229242874389499)</pre></div></div></div></div></div>"
      ],
      "text/plain": [
       "Ridge(alpha=4.229242874389499)"
      ]
     },
     "execution_count": 68,
     "metadata": {},
     "output_type": "execute_result"
    }
   ],
   "source": [
    "lm_r_best.fit(x_train_s, y_train)"
   ]
  },
  {
   "cell_type": "code",
   "execution_count": 69,
   "id": "104cda07",
   "metadata": {},
   "outputs": [
    {
     "data": {
      "text/plain": [
       "0.5355126829801344"
      ]
     },
     "execution_count": 69,
     "metadata": {},
     "output_type": "execute_result"
    }
   ],
   "source": [
    "r2_score(y_test, lm_r_best.predict(x_test_s))"
   ]
  },
  {
   "cell_type": "markdown",
   "id": "95f3a493",
   "metadata": {},
   "source": [
    "* As we can see there's no improvement in the r2 score after selecting the best lamda. So lets try other models."
   ]
  },
  {
   "cell_type": "markdown",
   "id": "b8c7709a",
   "metadata": {},
   "source": [
    "# Regression tree"
   ]
  },
  {
   "cell_type": "markdown",
   "id": "476dddaa",
   "metadata": {},
   "source": [
    "* Lets start with a simple regression tree"
   ]
  },
  {
   "cell_type": "code",
   "execution_count": 70,
   "id": "0a336ff2",
   "metadata": {},
   "outputs": [],
   "source": [
    "import matplotlib.pyplot as plt"
   ]
  },
  {
   "cell_type": "code",
   "execution_count": 71,
   "id": "e57f162c",
   "metadata": {},
   "outputs": [],
   "source": [
    "from sklearn import tree"
   ]
  },
  {
   "cell_type": "code",
   "execution_count": 72,
   "id": "3e4c9988",
   "metadata": {},
   "outputs": [],
   "source": [
    "regtree = tree.DecisionTreeRegressor(max_depth = 3)"
   ]
  },
  {
   "cell_type": "code",
   "execution_count": 73,
   "id": "379bef78",
   "metadata": {},
   "outputs": [
    {
     "data": {
      "text/html": [
       "<style>#sk-container-id-4 {color: black;background-color: white;}#sk-container-id-4 pre{padding: 0;}#sk-container-id-4 div.sk-toggleable {background-color: white;}#sk-container-id-4 label.sk-toggleable__label {cursor: pointer;display: block;width: 100%;margin-bottom: 0;padding: 0.3em;box-sizing: border-box;text-align: center;}#sk-container-id-4 label.sk-toggleable__label-arrow:before {content: \"▸\";float: left;margin-right: 0.25em;color: #696969;}#sk-container-id-4 label.sk-toggleable__label-arrow:hover:before {color: black;}#sk-container-id-4 div.sk-estimator:hover label.sk-toggleable__label-arrow:before {color: black;}#sk-container-id-4 div.sk-toggleable__content {max-height: 0;max-width: 0;overflow: hidden;text-align: left;background-color: #f0f8ff;}#sk-container-id-4 div.sk-toggleable__content pre {margin: 0.2em;color: black;border-radius: 0.25em;background-color: #f0f8ff;}#sk-container-id-4 input.sk-toggleable__control:checked~div.sk-toggleable__content {max-height: 200px;max-width: 100%;overflow: auto;}#sk-container-id-4 input.sk-toggleable__control:checked~label.sk-toggleable__label-arrow:before {content: \"▾\";}#sk-container-id-4 div.sk-estimator input.sk-toggleable__control:checked~label.sk-toggleable__label {background-color: #d4ebff;}#sk-container-id-4 div.sk-label input.sk-toggleable__control:checked~label.sk-toggleable__label {background-color: #d4ebff;}#sk-container-id-4 input.sk-hidden--visually {border: 0;clip: rect(1px 1px 1px 1px);clip: rect(1px, 1px, 1px, 1px);height: 1px;margin: -1px;overflow: hidden;padding: 0;position: absolute;width: 1px;}#sk-container-id-4 div.sk-estimator {font-family: monospace;background-color: #f0f8ff;border: 1px dotted black;border-radius: 0.25em;box-sizing: border-box;margin-bottom: 0.5em;}#sk-container-id-4 div.sk-estimator:hover {background-color: #d4ebff;}#sk-container-id-4 div.sk-parallel-item::after {content: \"\";width: 100%;border-bottom: 1px solid gray;flex-grow: 1;}#sk-container-id-4 div.sk-label:hover label.sk-toggleable__label {background-color: #d4ebff;}#sk-container-id-4 div.sk-serial::before {content: \"\";position: absolute;border-left: 1px solid gray;box-sizing: border-box;top: 0;bottom: 0;left: 50%;z-index: 0;}#sk-container-id-4 div.sk-serial {display: flex;flex-direction: column;align-items: center;background-color: white;padding-right: 0.2em;padding-left: 0.2em;position: relative;}#sk-container-id-4 div.sk-item {position: relative;z-index: 1;}#sk-container-id-4 div.sk-parallel {display: flex;align-items: stretch;justify-content: center;background-color: white;position: relative;}#sk-container-id-4 div.sk-item::before, #sk-container-id-4 div.sk-parallel-item::before {content: \"\";position: absolute;border-left: 1px solid gray;box-sizing: border-box;top: 0;bottom: 0;left: 50%;z-index: -1;}#sk-container-id-4 div.sk-parallel-item {display: flex;flex-direction: column;z-index: 1;position: relative;background-color: white;}#sk-container-id-4 div.sk-parallel-item:first-child::after {align-self: flex-end;width: 50%;}#sk-container-id-4 div.sk-parallel-item:last-child::after {align-self: flex-start;width: 50%;}#sk-container-id-4 div.sk-parallel-item:only-child::after {width: 0;}#sk-container-id-4 div.sk-dashed-wrapped {border: 1px dashed gray;margin: 0 0.4em 0.5em 0.4em;box-sizing: border-box;padding-bottom: 0.4em;background-color: white;}#sk-container-id-4 div.sk-label label {font-family: monospace;font-weight: bold;display: inline-block;line-height: 1.2em;}#sk-container-id-4 div.sk-label-container {text-align: center;}#sk-container-id-4 div.sk-container {/* jupyter's `normalize.less` sets `[hidden] { display: none; }` but bootstrap.min.css set `[hidden] { display: none !important; }` so we also need the `!important` here to be able to override the default hidden behavior on the sphinx rendered scikit-learn.org. See: https://github.com/scikit-learn/scikit-learn/issues/21755 */display: inline-block !important;position: relative;}#sk-container-id-4 div.sk-text-repr-fallback {display: none;}</style><div id=\"sk-container-id-4\" class=\"sk-top-container\"><div class=\"sk-text-repr-fallback\"><pre>DecisionTreeRegressor(max_depth=3)</pre><b>In a Jupyter environment, please rerun this cell to show the HTML representation or trust the notebook. <br />On GitHub, the HTML representation is unable to render, please try loading this page with nbviewer.org.</b></div><div class=\"sk-container\" hidden><div class=\"sk-item\"><div class=\"sk-estimator sk-toggleable\"><input class=\"sk-toggleable__control sk-hidden--visually\" id=\"sk-estimator-id-4\" type=\"checkbox\" checked><label for=\"sk-estimator-id-4\" class=\"sk-toggleable__label sk-toggleable__label-arrow\">DecisionTreeRegressor</label><div class=\"sk-toggleable__content\"><pre>DecisionTreeRegressor(max_depth=3)</pre></div></div></div></div></div>"
      ],
      "text/plain": [
       "DecisionTreeRegressor(max_depth=3)"
      ]
     },
     "execution_count": 73,
     "metadata": {},
     "output_type": "execute_result"
    }
   ],
   "source": [
    "regtree.fit(x_train, y_train)"
   ]
  },
  {
   "cell_type": "code",
   "execution_count": 74,
   "id": "1b2b37e8",
   "metadata": {},
   "outputs": [],
   "source": [
    "y_train_pred = regtree.predict(x_train)\n",
    "y_test_pred = regtree.predict(x_test)"
   ]
  },
  {
   "cell_type": "code",
   "execution_count": 75,
   "id": "1da07ea2",
   "metadata": {},
   "outputs": [
    {
     "data": {
      "text/plain": [
       "array([ 73242.49487805,  67137.92249315,  67137.92249315,  77249.90582677,\n",
       "        73242.49487805,  87264.44514286,  70080.03361607,  73242.49487805,\n",
       "        67137.92249315,  73242.49487805,  70080.03361607,  77249.90582677,\n",
       "        95311.75026316,  77249.90582677,  73242.49487805, 104985.9661039 ,\n",
       "        67137.92249315,  67137.92249315,  67137.92249315,  77249.90582677,\n",
       "       104985.9661039 , 104985.9661039 ,  67137.92249315,  67137.92249315,\n",
       "        70080.03361607,  67137.92249315,  77249.90582677, 104985.9661039 ,\n",
       "        77249.90582677,  73242.49487805,  67137.92249315,  67137.92249315,\n",
       "        77180.13443038,  77249.90582677, 104985.9661039 ,  77249.90582677,\n",
       "        67137.92249315,  77180.13443038,  67137.92249315,  67137.92249315,\n",
       "        67137.92249315,  77180.13443038,  73242.49487805,  67137.92249315,\n",
       "        77249.90582677,  70080.03361607,  77180.13443038,  67137.92249315,\n",
       "        67137.92249315,  73242.49487805,  95311.75026316,  77249.90582677,\n",
       "       104985.9661039 ,  77249.90582677,  95311.75026316,  67137.92249315,\n",
       "        70080.03361607,  77180.13443038,  67137.92249315,  67137.92249315,\n",
       "        77249.90582677,  77249.90582677,  70080.03361607,  67137.92249315,\n",
       "        67137.92249315,  73242.49487805,  67137.92249315,  67137.92249315,\n",
       "        95311.75026316,  73242.49487805,  70080.03361607,  67137.92249315,\n",
       "        70080.03361607,  70080.03361607,  73242.49487805,  77249.90582677,\n",
       "        70080.03361607,  70080.03361607,  70080.03361607,  67137.92249315,\n",
       "        87264.44514286,  77249.90582677,  70080.03361607,  77249.90582677,\n",
       "        70080.03361607,  70080.03361607,  67137.92249315,  67137.92249315,\n",
       "        73242.49487805, 104985.9661039 ,  77249.90582677,  70080.03361607,\n",
       "        73242.49487805,  95311.75026316,  67137.92249315,  67137.92249315,\n",
       "        67137.92249315,  77249.90582677, 104985.9661039 ,  73242.49487805,\n",
       "        67137.92249315,  67137.92249315,  67137.92249315,  67137.92249315,\n",
       "        77180.13443038,  67137.92249315,  95311.75026316,  87264.44514286,\n",
       "        77180.13443038,  73242.49487805,  77249.90582677,  73242.49487805,\n",
       "        77180.13443038,  67137.92249315,  70080.03361607,  95311.75026316,\n",
       "        95311.75026316,  70080.03361607,  67137.92249315,  73242.49487805,\n",
       "        77180.13443038, 104985.9661039 ,  67137.92249315,  77180.13443038,\n",
       "        77249.90582677,  77249.90582677,  73242.49487805,  67137.92249315,\n",
       "        67137.92249315,  67137.92249315,  73242.49487805,  77180.13443038,\n",
       "        77249.90582677,  70080.03361607,  77180.13443038,  77249.90582677,\n",
       "        77249.90582677,  67137.92249315, 104985.9661039 ,  73242.49487805,\n",
       "        67137.92249315,  95311.75026316,  70080.03361607,  67137.92249315,\n",
       "        87264.44514286,  77249.90582677,  77249.90582677,  67137.92249315,\n",
       "        67137.92249315,  67137.92249315,  67137.92249315,  77249.90582677,\n",
       "        87264.44514286,  77180.13443038,  67137.92249315,  67137.92249315,\n",
       "        77249.90582677,  67137.92249315,  70080.03361607,  70080.03361607,\n",
       "        67137.92249315,  77249.90582677,  73242.49487805,  70080.03361607,\n",
       "        70080.03361607,  77249.90582677,  87264.44514286,  77249.90582677,\n",
       "        87264.44514286,  67137.92249315,  67137.92249315,  70080.03361607,\n",
       "        87264.44514286,  67137.92249315,  67137.92249315,  77249.90582677,\n",
       "        67137.92249315,  77180.13443038,  77249.90582677, 104985.9661039 ,\n",
       "        67137.92249315,  77249.90582677,  73242.49487805, 104985.9661039 ,\n",
       "        73242.49487805,  87264.44514286,  67137.92249315,  67137.92249315,\n",
       "        73242.49487805,  73242.49487805,  67137.92249315,  73242.49487805,\n",
       "        77249.90582677,  67137.92249315,  95311.75026316,  73242.49487805,\n",
       "       104985.9661039 ,  77249.90582677,  70080.03361607,  67137.92249315,\n",
       "        73242.49487805,  95311.75026316,  77249.90582677,  67137.92249315,\n",
       "        67137.92249315,  73242.49487805,  73242.49487805,  67137.92249315,\n",
       "       104985.9661039 ,  67137.92249315,  67137.92249315, 104985.9661039 ,\n",
       "        77249.90582677,  67137.92249315,  67137.92249315,  77249.90582677,\n",
       "        67137.92249315,  77249.90582677,  77249.90582677,  73242.49487805,\n",
       "        67137.92249315,  67137.92249315, 104985.9661039 ,  77249.90582677,\n",
       "        67137.92249315,  77249.90582677,  77249.90582677,  67137.92249315,\n",
       "        67137.92249315,  67137.92249315,  77180.13443038,  67137.92249315,\n",
       "        70080.03361607,  87264.44514286,  77249.90582677,  73242.49487805,\n",
       "        67137.92249315,  77249.90582677,  77249.90582677,  73242.49487805,\n",
       "        70080.03361607,  77180.13443038,  73242.49487805,  73242.49487805,\n",
       "        77180.13443038, 104985.9661039 ,  67137.92249315,  77249.90582677,\n",
       "        87264.44514286,  67137.92249315,  67137.92249315,  67137.92249315,\n",
       "        77249.90582677,  77249.90582677,  77249.90582677,  77180.13443038,\n",
       "        67137.92249315,  70080.03361607,  67137.92249315,  77249.90582677,\n",
       "        73242.49487805,  73242.49487805,  67137.92249315, 104985.9661039 ,\n",
       "        67137.92249315,  67137.92249315,  77249.90582677,  77249.90582677,\n",
       "        77249.90582677,  77249.90582677,  77249.90582677,  95311.75026316,\n",
       "        67137.92249315,  70080.03361607,  77249.90582677,  67137.92249315,\n",
       "        73242.49487805,  67137.92249315,  67137.92249315,  77249.90582677,\n",
       "        67137.92249315,  73242.49487805,  67137.92249315,  67137.92249315,\n",
       "        87264.44514286,  67137.92249315,  73242.49487805,  70080.03361607,\n",
       "        77249.90582677,  70080.03361607,  73242.49487805,  87264.44514286,\n",
       "        95311.75026316,  67137.92249315,  77249.90582677,  77249.90582677,\n",
       "        77249.90582677,  73242.49487805,  67137.92249315,  77180.13443038,\n",
       "        95311.75026316,  77249.90582677,  77249.90582677,  67137.92249315,\n",
       "        67137.92249315,  67137.92249315,  77249.90582677,  67137.92249315,\n",
       "        67137.92249315,  73242.49487805,  67137.92249315,  67137.92249315,\n",
       "        70080.03361607,  77249.90582677,  73242.49487805,  70080.03361607,\n",
       "        67137.92249315,  77249.90582677])"
      ]
     },
     "execution_count": 75,
     "metadata": {},
     "output_type": "execute_result"
    }
   ],
   "source": [
    "y_test_pred"
   ]
  },
  {
   "cell_type": "code",
   "execution_count": 76,
   "id": "dc0a8884",
   "metadata": {},
   "outputs": [],
   "source": [
    "from sklearn.metrics import mean_squared_error, r2_score"
   ]
  },
  {
   "cell_type": "code",
   "execution_count": 77,
   "id": "a125acfd",
   "metadata": {},
   "outputs": [
    {
     "data": {
      "text/plain": [
       "60424631.02613475"
      ]
     },
     "execution_count": 77,
     "metadata": {},
     "output_type": "execute_result"
    }
   ],
   "source": [
    "mean_squared_error(y_test, y_test_pred)"
   ]
  },
  {
   "cell_type": "code",
   "execution_count": 78,
   "id": "bddacfe7",
   "metadata": {},
   "outputs": [
    {
     "data": {
      "text/plain": [
       "0.5927831611924911"
      ]
     },
     "execution_count": 78,
     "metadata": {},
     "output_type": "execute_result"
    }
   ],
   "source": [
    "r2_score(y_test, y_test_pred)"
   ]
  },
  {
   "cell_type": "markdown",
   "id": "ad29be2c",
   "metadata": {},
   "source": [
    "* using regtree has increased the r2 score upto 0.59 which is a good hike to the r2 score of ridge regression\n",
    "* Now we can plot the tree"
   ]
  },
  {
   "cell_type": "code",
   "execution_count": 79,
   "id": "eedf6e91",
   "metadata": {},
   "outputs": [],
   "source": [
    "dot_data = tree.export_graphviz(regtree, out_file=None)"
   ]
  },
  {
   "cell_type": "code",
   "execution_count": 80,
   "id": "242eb000",
   "metadata": {},
   "outputs": [],
   "source": [
    "from IPython.display import Image\n",
    "import pydotplus"
   ]
  },
  {
   "cell_type": "code",
   "execution_count": 81,
   "id": "69f5f40a",
   "metadata": {},
   "outputs": [
    {
     "data": {
      "image/png": "[encoded data removed]",
      "text/plain": [
       "<IPython.core.display.Image object>"
      ]
     },
     "execution_count": 81,
     "metadata": {},
     "output_type": "execute_result"
    }
   ],
   "source": [
    "graph = pydotplus.graph_from_dot_data(dot_data)\n",
    "Image(graph.create_png())"
   ]
  },
  {
   "cell_type": "markdown",
   "id": "be406083",
   "metadata": {},
   "source": [
    "# Random Forest"
   ]
  },
  {
   "cell_type": "markdown",
   "id": "86738ec4",
   "metadata": {},
   "source": [
    "* to improve the perfomance of our model lets try the ensemble techniques.\n",
    "* we are starting with random forest since bagging creates correlated trees"
   ]
  },
  {
   "cell_type": "code",
   "execution_count": 82,
   "id": "1a41c14e",
   "metadata": {},
   "outputs": [],
   "source": [
    "from sklearn.ensemble import RandomForestRegressor"
   ]
  },
  {
   "cell_type": "code",
   "execution_count": 83,
   "id": "48cd46f4",
   "metadata": {},
   "outputs": [],
   "source": [
    "rf_regressor = RandomForestRegressor(n_estimators=1000, n_jobs=-1, random_state=0)"
   ]
  },
  {
   "cell_type": "code",
   "execution_count": 84,
   "id": "af50d3eb",
   "metadata": {},
   "outputs": [
    {
     "data": {
      "text/html": [
       "<style>#sk-container-id-5 {color: black;background-color: white;}#sk-container-id-5 pre{padding: 0;}#sk-container-id-5 div.sk-toggleable {background-color: white;}#sk-container-id-5 label.sk-toggleable__label {cursor: pointer;display: block;width: 100%;margin-bottom: 0;padding: 0.3em;box-sizing: border-box;text-align: center;}#sk-container-id-5 label.sk-toggleable__label-arrow:before {content: \"▸\";float: left;margin-right: 0.25em;color: #696969;}#sk-container-id-5 label.sk-toggleable__label-arrow:hover:before {color: black;}#sk-container-id-5 div.sk-estimator:hover label.sk-toggleable__label-arrow:before {color: black;}#sk-container-id-5 div.sk-toggleable__content {max-height: 0;max-width: 0;overflow: hidden;text-align: left;background-color: #f0f8ff;}#sk-container-id-5 div.sk-toggleable__content pre {margin: 0.2em;color: black;border-radius: 0.25em;background-color: #f0f8ff;}#sk-container-id-5 input.sk-toggleable__control:checked~div.sk-toggleable__content {max-height: 200px;max-width: 100%;overflow: auto;}#sk-container-id-5 input.sk-toggleable__control:checked~label.sk-toggleable__label-arrow:before {content: \"▾\";}#sk-container-id-5 div.sk-estimator input.sk-toggleable__control:checked~label.sk-toggleable__label {background-color: #d4ebff;}#sk-container-id-5 div.sk-label input.sk-toggleable__control:checked~label.sk-toggleable__label {background-color: #d4ebff;}#sk-container-id-5 input.sk-hidden--visually {border: 0;clip: rect(1px 1px 1px 1px);clip: rect(1px, 1px, 1px, 1px);height: 1px;margin: -1px;overflow: hidden;padding: 0;position: absolute;width: 1px;}#sk-container-id-5 div.sk-estimator {font-family: monospace;background-color: #f0f8ff;border: 1px dotted black;border-radius: 0.25em;box-sizing: border-box;margin-bottom: 0.5em;}#sk-container-id-5 div.sk-estimator:hover {background-color: #d4ebff;}#sk-container-id-5 div.sk-parallel-item::after {content: \"\";width: 100%;border-bottom: 1px solid gray;flex-grow: 1;}#sk-container-id-5 div.sk-label:hover label.sk-toggleable__label {background-color: #d4ebff;}#sk-container-id-5 div.sk-serial::before {content: \"\";position: absolute;border-left: 1px solid gray;box-sizing: border-box;top: 0;bottom: 0;left: 50%;z-index: 0;}#sk-container-id-5 div.sk-serial {display: flex;flex-direction: column;align-items: center;background-color: white;padding-right: 0.2em;padding-left: 0.2em;position: relative;}#sk-container-id-5 div.sk-item {position: relative;z-index: 1;}#sk-container-id-5 div.sk-parallel {display: flex;align-items: stretch;justify-content: center;background-color: white;position: relative;}#sk-container-id-5 div.sk-item::before, #sk-container-id-5 div.sk-parallel-item::before {content: \"\";position: absolute;border-left: 1px solid gray;box-sizing: border-box;top: 0;bottom: 0;left: 50%;z-index: -1;}#sk-container-id-5 div.sk-parallel-item {display: flex;flex-direction: column;z-index: 1;position: relative;background-color: white;}#sk-container-id-5 div.sk-parallel-item:first-child::after {align-self: flex-end;width: 50%;}#sk-container-id-5 div.sk-parallel-item:last-child::after {align-self: flex-start;width: 50%;}#sk-container-id-5 div.sk-parallel-item:only-child::after {width: 0;}#sk-container-id-5 div.sk-dashed-wrapped {border: 1px dashed gray;margin: 0 0.4em 0.5em 0.4em;box-sizing: border-box;padding-bottom: 0.4em;background-color: white;}#sk-container-id-5 div.sk-label label {font-family: monospace;font-weight: bold;display: inline-block;line-height: 1.2em;}#sk-container-id-5 div.sk-label-container {text-align: center;}#sk-container-id-5 div.sk-container {/* jupyter's `normalize.less` sets `[hidden] { display: none; }` but bootstrap.min.css set `[hidden] { display: none !important; }` so we also need the `!important` here to be able to override the default hidden behavior on the sphinx rendered scikit-learn.org. See: https://github.com/scikit-learn/scikit-learn/issues/21755 */display: inline-block !important;position: relative;}#sk-container-id-5 div.sk-text-repr-fallback {display: none;}</style><div id=\"sk-container-id-5\" class=\"sk-top-container\"><div class=\"sk-text-repr-fallback\"><pre>RandomForestRegressor(n_estimators=1000, n_jobs=-1, random_state=0)</pre><b>In a Jupyter environment, please rerun this cell to show the HTML representation or trust the notebook. <br />On GitHub, the HTML representation is unable to render, please try loading this page with nbviewer.org.</b></div><div class=\"sk-container\" hidden><div class=\"sk-item\"><div class=\"sk-estimator sk-toggleable\"><input class=\"sk-toggleable__control sk-hidden--visually\" id=\"sk-estimator-id-5\" type=\"checkbox\" checked><label for=\"sk-estimator-id-5\" class=\"sk-toggleable__label sk-toggleable__label-arrow\">RandomForestRegressor</label><div class=\"sk-toggleable__content\"><pre>RandomForestRegressor(n_estimators=1000, n_jobs=-1, random_state=0)</pre></div></div></div></div></div>"
      ],
      "text/plain": [
       "RandomForestRegressor(n_estimators=1000, n_jobs=-1, random_state=0)"
      ]
     },
     "execution_count": 84,
     "metadata": {},
     "output_type": "execute_result"
    }
   ],
   "source": [
    "rf_regressor.fit(x_train, y_train)"
   ]
  },
  {
   "cell_type": "code",
   "execution_count": 85,
   "id": "c3517ffb",
   "metadata": {},
   "outputs": [
    {
     "data": {
      "text/plain": [
       "0.659231079686029"
      ]
     },
     "execution_count": 85,
     "metadata": {},
     "output_type": "execute_result"
    }
   ],
   "source": [
    "r2_score(y_test, rf_regressor.predict(x_test))"
   ]
  },
  {
   "cell_type": "markdown",
   "id": "4d9561ec",
   "metadata": {},
   "source": [
    "* Using Random forest improves the r2 score upto 0.65.\n",
    "* we can use grid search to find optimal hyperparameters for regressor"
   ]
  },
  {
   "cell_type": "markdown",
   "id": "6880d32c",
   "metadata": {},
   "source": [
    "# Grid search"
   ]
  },
  {
   "cell_type": "code",
   "execution_count": 86,
   "id": "d7cf0264",
   "metadata": {},
   "outputs": [],
   "source": [
    "from sklearn.model_selection import GridSearchCV"
   ]
  },
  {
   "cell_type": "code",
   "execution_count": 87,
   "id": "87947620",
   "metadata": {},
   "outputs": [],
   "source": [
    "rf_regressor = RandomForestRegressor(n_estimators= 250, random_state=0)"
   ]
  },
  {
   "cell_type": "code",
   "execution_count": 88,
   "id": "cd5e39a7",
   "metadata": {},
   "outputs": [],
   "source": [
    "params_grid = {\"max_features\" : [4,5,6,7,8],\n",
    "              \"min_samples_split\" : [2,3,10]}"
   ]
  },
  {
   "cell_type": "code",
   "execution_count": 89,
   "id": "09a00085",
   "metadata": {},
   "outputs": [],
   "source": [
    "grid_search = GridSearchCV(rf_regressor, params_grid,\n",
    "                           n_jobs = -1, cv=5, scoring='r2')"
   ]
  },
  {
   "cell_type": "code",
   "execution_count": 90,
   "id": "d5b3f835",
   "metadata": {},
   "outputs": [
    {
     "data": {
      "text/html": [
       "<style>#sk-container-id-6 {color: black;background-color: white;}#sk-container-id-6 pre{padding: 0;}#sk-container-id-6 div.sk-toggleable {background-color: white;}#sk-container-id-6 label.sk-toggleable__label {cursor: pointer;display: block;width: 100%;margin-bottom: 0;padding: 0.3em;box-sizing: border-box;text-align: center;}#sk-container-id-6 label.sk-toggleable__label-arrow:before {content: \"▸\";float: left;margin-right: 0.25em;color: #696969;}#sk-container-id-6 label.sk-toggleable__label-arrow:hover:before {color: black;}#sk-container-id-6 div.sk-estimator:hover label.sk-toggleable__label-arrow:before {color: black;}#sk-container-id-6 div.sk-toggleable__content {max-height: 0;max-width: 0;overflow: hidden;text-align: left;background-color: #f0f8ff;}#sk-container-id-6 div.sk-toggleable__content pre {margin: 0.2em;color: black;border-radius: 0.25em;background-color: #f0f8ff;}#sk-container-id-6 input.sk-toggleable__control:checked~div.sk-toggleable__content {max-height: 200px;max-width: 100%;overflow: auto;}#sk-container-id-6 input.sk-toggleable__control:checked~label.sk-toggleable__label-arrow:before {content: \"▾\";}#sk-container-id-6 div.sk-estimator input.sk-toggleable__control:checked~label.sk-toggleable__label {background-color: #d4ebff;}#sk-container-id-6 div.sk-label input.sk-toggleable__control:checked~label.sk-toggleable__label {background-color: #d4ebff;}#sk-container-id-6 input.sk-hidden--visually {border: 0;clip: rect(1px 1px 1px 1px);clip: rect(1px, 1px, 1px, 1px);height: 1px;margin: -1px;overflow: hidden;padding: 0;position: absolute;width: 1px;}#sk-container-id-6 div.sk-estimator {font-family: monospace;background-color: #f0f8ff;border: 1px dotted black;border-radius: 0.25em;box-sizing: border-box;margin-bottom: 0.5em;}#sk-container-id-6 div.sk-estimator:hover {background-color: #d4ebff;}#sk-container-id-6 div.sk-parallel-item::after {content: \"\";width: 100%;border-bottom: 1px solid gray;flex-grow: 1;}#sk-container-id-6 div.sk-label:hover label.sk-toggleable__label {background-color: #d4ebff;}#sk-container-id-6 div.sk-serial::before {content: \"\";position: absolute;border-left: 1px solid gray;box-sizing: border-box;top: 0;bottom: 0;left: 50%;z-index: 0;}#sk-container-id-6 div.sk-serial {display: flex;flex-direction: column;align-items: center;background-color: white;padding-right: 0.2em;padding-left: 0.2em;position: relative;}#sk-container-id-6 div.sk-item {position: relative;z-index: 1;}#sk-container-id-6 div.sk-parallel {display: flex;align-items: stretch;justify-content: center;background-color: white;position: relative;}#sk-container-id-6 div.sk-item::before, #sk-container-id-6 div.sk-parallel-item::before {content: \"\";position: absolute;border-left: 1px solid gray;box-sizing: border-box;top: 0;bottom: 0;left: 50%;z-index: -1;}#sk-container-id-6 div.sk-parallel-item {display: flex;flex-direction: column;z-index: 1;position: relative;background-color: white;}#sk-container-id-6 div.sk-parallel-item:first-child::after {align-self: flex-end;width: 50%;}#sk-container-id-6 div.sk-parallel-item:last-child::after {align-self: flex-start;width: 50%;}#sk-container-id-6 div.sk-parallel-item:only-child::after {width: 0;}#sk-container-id-6 div.sk-dashed-wrapped {border: 1px dashed gray;margin: 0 0.4em 0.5em 0.4em;box-sizing: border-box;padding-bottom: 0.4em;background-color: white;}#sk-container-id-6 div.sk-label label {font-family: monospace;font-weight: bold;display: inline-block;line-height: 1.2em;}#sk-container-id-6 div.sk-label-container {text-align: center;}#sk-container-id-6 div.sk-container {/* jupyter's `normalize.less` sets `[hidden] { display: none; }` but bootstrap.min.css set `[hidden] { display: none !important; }` so we also need the `!important` here to be able to override the default hidden behavior on the sphinx rendered scikit-learn.org. See: https://github.com/scikit-learn/scikit-learn/issues/21755 */display: inline-block !important;position: relative;}#sk-container-id-6 div.sk-text-repr-fallback {display: none;}</style><div id=\"sk-container-id-6\" class=\"sk-top-container\"><div class=\"sk-text-repr-fallback\"><pre>GridSearchCV(cv=5,\n",
       "             estimator=RandomForestRegressor(n_estimators=250, random_state=0),\n",
       "             n_jobs=-1,\n",
       "             param_grid={&#x27;max_features&#x27;: [4, 5, 6, 7, 8],\n",
       "                         &#x27;min_samples_split&#x27;: [2, 3, 10]},\n",
       "             scoring=&#x27;r2&#x27;)</pre><b>In a Jupyter environment, please rerun this cell to show the HTML representation or trust the notebook. <br />On GitHub, the HTML representation is unable to render, please try loading this page with nbviewer.org.</b></div><div class=\"sk-container\" hidden><div class=\"sk-item sk-dashed-wrapped\"><div class=\"sk-label-container\"><div class=\"sk-label sk-toggleable\"><input class=\"sk-toggleable__control sk-hidden--visually\" id=\"sk-estimator-id-6\" type=\"checkbox\" ><label for=\"sk-estimator-id-6\" class=\"sk-toggleable__label sk-toggleable__label-arrow\">GridSearchCV</label><div class=\"sk-toggleable__content\"><pre>GridSearchCV(cv=5,\n",
       "             estimator=RandomForestRegressor(n_estimators=250, random_state=0),\n",
       "             n_jobs=-1,\n",
       "             param_grid={&#x27;max_features&#x27;: [4, 5, 6, 7, 8],\n",
       "                         &#x27;min_samples_split&#x27;: [2, 3, 10]},\n",
       "             scoring=&#x27;r2&#x27;)</pre></div></div></div><div class=\"sk-parallel\"><div class=\"sk-parallel-item\"><div class=\"sk-item\"><div class=\"sk-label-container\"><div class=\"sk-label sk-toggleable\"><input class=\"sk-toggleable__control sk-hidden--visually\" id=\"sk-estimator-id-7\" type=\"checkbox\" ><label for=\"sk-estimator-id-7\" class=\"sk-toggleable__label sk-toggleable__label-arrow\">estimator: RandomForestRegressor</label><div class=\"sk-toggleable__content\"><pre>RandomForestRegressor(n_estimators=250, random_state=0)</pre></div></div></div><div class=\"sk-serial\"><div class=\"sk-item\"><div class=\"sk-estimator sk-toggleable\"><input class=\"sk-toggleable__control sk-hidden--visually\" id=\"sk-estimator-id-8\" type=\"checkbox\" ><label for=\"sk-estimator-id-8\" class=\"sk-toggleable__label sk-toggleable__label-arrow\">RandomForestRegressor</label><div class=\"sk-toggleable__content\"><pre>RandomForestRegressor(n_estimators=250, random_state=0)</pre></div></div></div></div></div></div></div></div></div></div>"
      ],
      "text/plain": [
       "GridSearchCV(cv=5,\n",
       "             estimator=RandomForestRegressor(n_estimators=250, random_state=0),\n",
       "             n_jobs=-1,\n",
       "             param_grid={'max_features': [4, 5, 6, 7, 8],\n",
       "                         'min_samples_split': [2, 3, 10]},\n",
       "             scoring='r2')"
      ]
     },
     "execution_count": 90,
     "metadata": {},
     "output_type": "execute_result"
    }
   ],
   "source": [
    "grid_search.fit(x_train, y_train)"
   ]
  },
  {
   "cell_type": "code",
   "execution_count": 91,
   "id": "b47a56f6",
   "metadata": {},
   "outputs": [
    {
     "data": {
      "text/plain": [
       "{'max_features': 4, 'min_samples_split': 3}"
      ]
     },
     "execution_count": 91,
     "metadata": {},
     "output_type": "execute_result"
    }
   ],
   "source": [
    "grid_search.best_params_"
   ]
  },
  {
   "cell_type": "code",
   "execution_count": 92,
   "id": "9c214c7f",
   "metadata": {},
   "outputs": [],
   "source": [
    "cvrf_regressor = grid_search.best_estimator_ "
   ]
  },
  {
   "cell_type": "code",
   "execution_count": 93,
   "id": "e689ce49",
   "metadata": {},
   "outputs": [
    {
     "data": {
      "text/plain": [
       "0.6574749691893454"
      ]
     },
     "execution_count": 93,
     "metadata": {},
     "output_type": "execute_result"
    }
   ],
   "source": [
    "r2_score(y_test,cvrf_regressor.predict(x_test))"
   ]
  },
  {
   "cell_type": "markdown",
   "id": "31bfcdc1",
   "metadata": {},
   "source": [
    "* Grid search did not improve the r2 score. \n",
    "* Lets try boosting for a higher r2 score.\n"
   ]
  },
  {
   "cell_type": "markdown",
   "id": "845d4e77",
   "metadata": {},
   "source": [
    "# Boosting"
   ]
  },
  {
   "cell_type": "markdown",
   "id": "61eebdea",
   "metadata": {},
   "source": [
    "* Gradient Boosting"
   ]
  },
  {
   "cell_type": "code",
   "execution_count": 94,
   "id": "b7f7168e",
   "metadata": {},
   "outputs": [],
   "source": [
    "from sklearn.ensemble import GradientBoostingRegressor"
   ]
  },
  {
   "cell_type": "code",
   "execution_count": 95,
   "id": "16d33479",
   "metadata": {},
   "outputs": [],
   "source": [
    "gbr_regressor = GradientBoostingRegressor(learning_rate = 0.1, n_estimators=5000, max_depth = 5)"
   ]
  },
  {
   "cell_type": "code",
   "execution_count": 96,
   "id": "9733278d",
   "metadata": {},
   "outputs": [
    {
     "data": {
      "text/html": [
       "<style>#sk-container-id-7 {color: black;background-color: white;}#sk-container-id-7 pre{padding: 0;}#sk-container-id-7 div.sk-toggleable {background-color: white;}#sk-container-id-7 label.sk-toggleable__label {cursor: pointer;display: block;width: 100%;margin-bottom: 0;padding: 0.3em;box-sizing: border-box;text-align: center;}#sk-container-id-7 label.sk-toggleable__label-arrow:before {content: \"▸\";float: left;margin-right: 0.25em;color: #696969;}#sk-container-id-7 label.sk-toggleable__label-arrow:hover:before {color: black;}#sk-container-id-7 div.sk-estimator:hover label.sk-toggleable__label-arrow:before {color: black;}#sk-container-id-7 div.sk-toggleable__content {max-height: 0;max-width: 0;overflow: hidden;text-align: left;background-color: #f0f8ff;}#sk-container-id-7 div.sk-toggleable__content pre {margin: 0.2em;color: black;border-radius: 0.25em;background-color: #f0f8ff;}#sk-container-id-7 input.sk-toggleable__control:checked~div.sk-toggleable__content {max-height: 200px;max-width: 100%;overflow: auto;}#sk-container-id-7 input.sk-toggleable__control:checked~label.sk-toggleable__label-arrow:before {content: \"▾\";}#sk-container-id-7 div.sk-estimator input.sk-toggleable__control:checked~label.sk-toggleable__label {background-color: #d4ebff;}#sk-container-id-7 div.sk-label input.sk-toggleable__control:checked~label.sk-toggleable__label {background-color: #d4ebff;}#sk-container-id-7 input.sk-hidden--visually {border: 0;clip: rect(1px 1px 1px 1px);clip: rect(1px, 1px, 1px, 1px);height: 1px;margin: -1px;overflow: hidden;padding: 0;position: absolute;width: 1px;}#sk-container-id-7 div.sk-estimator {font-family: monospace;background-color: #f0f8ff;border: 1px dotted black;border-radius: 0.25em;box-sizing: border-box;margin-bottom: 0.5em;}#sk-container-id-7 div.sk-estimator:hover {background-color: #d4ebff;}#sk-container-id-7 div.sk-parallel-item::after {content: \"\";width: 100%;border-bottom: 1px solid gray;flex-grow: 1;}#sk-container-id-7 div.sk-label:hover label.sk-toggleable__label {background-color: #d4ebff;}#sk-container-id-7 div.sk-serial::before {content: \"\";position: absolute;border-left: 1px solid gray;box-sizing: border-box;top: 0;bottom: 0;left: 50%;z-index: 0;}#sk-container-id-7 div.sk-serial {display: flex;flex-direction: column;align-items: center;background-color: white;padding-right: 0.2em;padding-left: 0.2em;position: relative;}#sk-container-id-7 div.sk-item {position: relative;z-index: 1;}#sk-container-id-7 div.sk-parallel {display: flex;align-items: stretch;justify-content: center;background-color: white;position: relative;}#sk-container-id-7 div.sk-item::before, #sk-container-id-7 div.sk-parallel-item::before {content: \"\";position: absolute;border-left: 1px solid gray;box-sizing: border-box;top: 0;bottom: 0;left: 50%;z-index: -1;}#sk-container-id-7 div.sk-parallel-item {display: flex;flex-direction: column;z-index: 1;position: relative;background-color: white;}#sk-container-id-7 div.sk-parallel-item:first-child::after {align-self: flex-end;width: 50%;}#sk-container-id-7 div.sk-parallel-item:last-child::after {align-self: flex-start;width: 50%;}#sk-container-id-7 div.sk-parallel-item:only-child::after {width: 0;}#sk-container-id-7 div.sk-dashed-wrapped {border: 1px dashed gray;margin: 0 0.4em 0.5em 0.4em;box-sizing: border-box;padding-bottom: 0.4em;background-color: white;}#sk-container-id-7 div.sk-label label {font-family: monospace;font-weight: bold;display: inline-block;line-height: 1.2em;}#sk-container-id-7 div.sk-label-container {text-align: center;}#sk-container-id-7 div.sk-container {/* jupyter's `normalize.less` sets `[hidden] { display: none; }` but bootstrap.min.css set `[hidden] { display: none !important; }` so we also need the `!important` here to be able to override the default hidden behavior on the sphinx rendered scikit-learn.org. See: https://github.com/scikit-learn/scikit-learn/issues/21755 */display: inline-block !important;position: relative;}#sk-container-id-7 div.sk-text-repr-fallback {display: none;}</style><div id=\"sk-container-id-7\" class=\"sk-top-container\"><div class=\"sk-text-repr-fallback\"><pre>GradientBoostingRegressor(max_depth=5, n_estimators=5000)</pre><b>In a Jupyter environment, please rerun this cell to show the HTML representation or trust the notebook. <br />On GitHub, the HTML representation is unable to render, please try loading this page with nbviewer.org.</b></div><div class=\"sk-container\" hidden><div class=\"sk-item\"><div class=\"sk-estimator sk-toggleable\"><input class=\"sk-toggleable__control sk-hidden--visually\" id=\"sk-estimator-id-9\" type=\"checkbox\" checked><label for=\"sk-estimator-id-9\" class=\"sk-toggleable__label sk-toggleable__label-arrow\">GradientBoostingRegressor</label><div class=\"sk-toggleable__content\"><pre>GradientBoostingRegressor(max_depth=5, n_estimators=5000)</pre></div></div></div></div></div>"
      ],
      "text/plain": [
       "GradientBoostingRegressor(max_depth=5, n_estimators=5000)"
      ]
     },
     "execution_count": 96,
     "metadata": {},
     "output_type": "execute_result"
    }
   ],
   "source": [
    "gbr_regressor.fit(x_train, y_train)"
   ]
  },
  {
   "cell_type": "code",
   "execution_count": 97,
   "id": "6bced2e5",
   "metadata": {},
   "outputs": [
    {
     "data": {
      "text/plain": [
       "0.6219827228731603"
      ]
     },
     "execution_count": 97,
     "metadata": {},
     "output_type": "execute_result"
    }
   ],
   "source": [
    "r2_score(y_test, gbr_regressor.predict(x_test))"
   ]
  },
  {
   "cell_type": "markdown",
   "id": "a376c0b1",
   "metadata": {},
   "source": [
    "* ADA boost"
   ]
  },
  {
   "cell_type": "code",
   "execution_count": 98,
   "id": "2620fce5",
   "metadata": {},
   "outputs": [],
   "source": [
    "from sklearn.ensemble import AdaBoostRegressor"
   ]
  },
  {
   "cell_type": "code",
   "execution_count": 99,
   "id": "9814e9c8",
   "metadata": {},
   "outputs": [],
   "source": [
    "ada_regressor = AdaBoostRegressor(learning_rate=0.1, n_estimators=5000)"
   ]
  },
  {
   "cell_type": "code",
   "execution_count": 100,
   "id": "91a40e67",
   "metadata": {},
   "outputs": [
    {
     "data": {
      "text/html": [
       "<style>#sk-container-id-8 {color: black;background-color: white;}#sk-container-id-8 pre{padding: 0;}#sk-container-id-8 div.sk-toggleable {background-color: white;}#sk-container-id-8 label.sk-toggleable__label {cursor: pointer;display: block;width: 100%;margin-bottom: 0;padding: 0.3em;box-sizing: border-box;text-align: center;}#sk-container-id-8 label.sk-toggleable__label-arrow:before {content: \"▸\";float: left;margin-right: 0.25em;color: #696969;}#sk-container-id-8 label.sk-toggleable__label-arrow:hover:before {color: black;}#sk-container-id-8 div.sk-estimator:hover label.sk-toggleable__label-arrow:before {color: black;}#sk-container-id-8 div.sk-toggleable__content {max-height: 0;max-width: 0;overflow: hidden;text-align: left;background-color: #f0f8ff;}#sk-container-id-8 div.sk-toggleable__content pre {margin: 0.2em;color: black;border-radius: 0.25em;background-color: #f0f8ff;}#sk-container-id-8 input.sk-toggleable__control:checked~div.sk-toggleable__content {max-height: 200px;max-width: 100%;overflow: auto;}#sk-container-id-8 input.sk-toggleable__control:checked~label.sk-toggleable__label-arrow:before {content: \"▾\";}#sk-container-id-8 div.sk-estimator input.sk-toggleable__control:checked~label.sk-toggleable__label {background-color: #d4ebff;}#sk-container-id-8 div.sk-label input.sk-toggleable__control:checked~label.sk-toggleable__label {background-color: #d4ebff;}#sk-container-id-8 input.sk-hidden--visually {border: 0;clip: rect(1px 1px 1px 1px);clip: rect(1px, 1px, 1px, 1px);height: 1px;margin: -1px;overflow: hidden;padding: 0;position: absolute;width: 1px;}#sk-container-id-8 div.sk-estimator {font-family: monospace;background-color: #f0f8ff;border: 1px dotted black;border-radius: 0.25em;box-sizing: border-box;margin-bottom: 0.5em;}#sk-container-id-8 div.sk-estimator:hover {background-color: #d4ebff;}#sk-container-id-8 div.sk-parallel-item::after {content: \"\";width: 100%;border-bottom: 1px solid gray;flex-grow: 1;}#sk-container-id-8 div.sk-label:hover label.sk-toggleable__label {background-color: #d4ebff;}#sk-container-id-8 div.sk-serial::before {content: \"\";position: absolute;border-left: 1px solid gray;box-sizing: border-box;top: 0;bottom: 0;left: 50%;z-index: 0;}#sk-container-id-8 div.sk-serial {display: flex;flex-direction: column;align-items: center;background-color: white;padding-right: 0.2em;padding-left: 0.2em;position: relative;}#sk-container-id-8 div.sk-item {position: relative;z-index: 1;}#sk-container-id-8 div.sk-parallel {display: flex;align-items: stretch;justify-content: center;background-color: white;position: relative;}#sk-container-id-8 div.sk-item::before, #sk-container-id-8 div.sk-parallel-item::before {content: \"\";position: absolute;border-left: 1px solid gray;box-sizing: border-box;top: 0;bottom: 0;left: 50%;z-index: -1;}#sk-container-id-8 div.sk-parallel-item {display: flex;flex-direction: column;z-index: 1;position: relative;background-color: white;}#sk-container-id-8 div.sk-parallel-item:first-child::after {align-self: flex-end;width: 50%;}#sk-container-id-8 div.sk-parallel-item:last-child::after {align-self: flex-start;width: 50%;}#sk-container-id-8 div.sk-parallel-item:only-child::after {width: 0;}#sk-container-id-8 div.sk-dashed-wrapped {border: 1px dashed gray;margin: 0 0.4em 0.5em 0.4em;box-sizing: border-box;padding-bottom: 0.4em;background-color: white;}#sk-container-id-8 div.sk-label label {font-family: monospace;font-weight: bold;display: inline-block;line-height: 1.2em;}#sk-container-id-8 div.sk-label-container {text-align: center;}#sk-container-id-8 div.sk-container {/* jupyter's `normalize.less` sets `[hidden] { display: none; }` but bootstrap.min.css set `[hidden] { display: none !important; }` so we also need the `!important` here to be able to override the default hidden behavior on the sphinx rendered scikit-learn.org. See: https://github.com/scikit-learn/scikit-learn/issues/21755 */display: inline-block !important;position: relative;}#sk-container-id-8 div.sk-text-repr-fallback {display: none;}</style><div id=\"sk-container-id-8\" class=\"sk-top-container\"><div class=\"sk-text-repr-fallback\"><pre>AdaBoostRegressor(learning_rate=0.1, n_estimators=5000)</pre><b>In a Jupyter environment, please rerun this cell to show the HTML representation or trust the notebook. <br />On GitHub, the HTML representation is unable to render, please try loading this page with nbviewer.org.</b></div><div class=\"sk-container\" hidden><div class=\"sk-item\"><div class=\"sk-estimator sk-toggleable\"><input class=\"sk-toggleable__control sk-hidden--visually\" id=\"sk-estimator-id-10\" type=\"checkbox\" checked><label for=\"sk-estimator-id-10\" class=\"sk-toggleable__label sk-toggleable__label-arrow\">AdaBoostRegressor</label><div class=\"sk-toggleable__content\"><pre>AdaBoostRegressor(learning_rate=0.1, n_estimators=5000)</pre></div></div></div></div></div>"
      ],
      "text/plain": [
       "AdaBoostRegressor(learning_rate=0.1, n_estimators=5000)"
      ]
     },
     "execution_count": 100,
     "metadata": {},
     "output_type": "execute_result"
    }
   ],
   "source": [
    "ada_regressor.fit(x_train, y_train)"
   ]
  },
  {
   "cell_type": "code",
   "execution_count": 101,
   "id": "2cca31d6",
   "metadata": {},
   "outputs": [
    {
     "data": {
      "text/plain": [
       "0.5979680223830799"
      ]
     },
     "execution_count": 101,
     "metadata": {},
     "output_type": "execute_result"
    }
   ],
   "source": [
    "r2_score(y_test,ada_regressor.predict(x_test) )"
   ]
  },
  {
   "cell_type": "markdown",
   "id": "6a971608",
   "metadata": {},
   "source": [
    "* XG Boost"
   ]
  },
  {
   "cell_type": "code",
   "execution_count": 102,
   "id": "4cdc5a07",
   "metadata": {},
   "outputs": [],
   "source": [
    "import xgboost as xgb"
   ]
  },
  {
   "cell_type": "code",
   "execution_count": 103,
   "id": "11b5c8a6",
   "metadata": {},
   "outputs": [],
   "source": [
    "xgb_regressor = xgb.XGBRegressor(max_depth=7, n_estimators=10000, learning_rate=0.1, n_jobs=-1)"
   ]
  },
  {
   "cell_type": "code",
   "execution_count": 104,
   "id": "2c4a30d5",
   "metadata": {
    "scrolled": true
   },
   "outputs": [
    {
     "data": {
      "text/html": [
       "<style>#sk-container-id-9 {color: black;background-color: white;}#sk-container-id-9 pre{padding: 0;}#sk-container-id-9 div.sk-toggleable {background-color: white;}#sk-container-id-9 label.sk-toggleable__label {cursor: pointer;display: block;width: 100%;margin-bottom: 0;padding: 0.3em;box-sizing: border-box;text-align: center;}#sk-container-id-9 label.sk-toggleable__label-arrow:before {content: \"▸\";float: left;margin-right: 0.25em;color: #696969;}#sk-container-id-9 label.sk-toggleable__label-arrow:hover:before {color: black;}#sk-container-id-9 div.sk-estimator:hover label.sk-toggleable__label-arrow:before {color: black;}#sk-container-id-9 div.sk-toggleable__content {max-height: 0;max-width: 0;overflow: hidden;text-align: left;background-color: #f0f8ff;}#sk-container-id-9 div.sk-toggleable__content pre {margin: 0.2em;color: black;border-radius: 0.25em;background-color: #f0f8ff;}#sk-container-id-9 input.sk-toggleable__control:checked~div.sk-toggleable__content {max-height: 200px;max-width: 100%;overflow: auto;}#sk-container-id-9 input.sk-toggleable__control:checked~label.sk-toggleable__label-arrow:before {content: \"▾\";}#sk-container-id-9 div.sk-estimator input.sk-toggleable__control:checked~label.sk-toggleable__label {background-color: #d4ebff;}#sk-container-id-9 div.sk-label input.sk-toggleable__control:checked~label.sk-toggleable__label {background-color: #d4ebff;}#sk-container-id-9 input.sk-hidden--visually {border: 0;clip: rect(1px 1px 1px 1px);clip: rect(1px, 1px, 1px, 1px);height: 1px;margin: -1px;overflow: hidden;padding: 0;position: absolute;width: 1px;}#sk-container-id-9 div.sk-estimator {font-family: monospace;background-color: #f0f8ff;border: 1px dotted black;border-radius: 0.25em;box-sizing: border-box;margin-bottom: 0.5em;}#sk-container-id-9 div.sk-estimator:hover {background-color: #d4ebff;}#sk-container-id-9 div.sk-parallel-item::after {content: \"\";width: 100%;border-bottom: 1px solid gray;flex-grow: 1;}#sk-container-id-9 div.sk-label:hover label.sk-toggleable__label {background-color: #d4ebff;}#sk-container-id-9 div.sk-serial::before {content: \"\";position: absolute;border-left: 1px solid gray;box-sizing: border-box;top: 0;bottom: 0;left: 50%;z-index: 0;}#sk-container-id-9 div.sk-serial {display: flex;flex-direction: column;align-items: center;background-color: white;padding-right: 0.2em;padding-left: 0.2em;position: relative;}#sk-container-id-9 div.sk-item {position: relative;z-index: 1;}#sk-container-id-9 div.sk-parallel {display: flex;align-items: stretch;justify-content: center;background-color: white;position: relative;}#sk-container-id-9 div.sk-item::before, #sk-container-id-9 div.sk-parallel-item::before {content: \"\";position: absolute;border-left: 1px solid gray;box-sizing: border-box;top: 0;bottom: 0;left: 50%;z-index: -1;}#sk-container-id-9 div.sk-parallel-item {display: flex;flex-direction: column;z-index: 1;position: relative;background-color: white;}#sk-container-id-9 div.sk-parallel-item:first-child::after {align-self: flex-end;width: 50%;}#sk-container-id-9 div.sk-parallel-item:last-child::after {align-self: flex-start;width: 50%;}#sk-container-id-9 div.sk-parallel-item:only-child::after {width: 0;}#sk-container-id-9 div.sk-dashed-wrapped {border: 1px dashed gray;margin: 0 0.4em 0.5em 0.4em;box-sizing: border-box;padding-bottom: 0.4em;background-color: white;}#sk-container-id-9 div.sk-label label {font-family: monospace;font-weight: bold;display: inline-block;line-height: 1.2em;}#sk-container-id-9 div.sk-label-container {text-align: center;}#sk-container-id-9 div.sk-container {/* jupyter's `normalize.less` sets `[hidden] { display: none; }` but bootstrap.min.css set `[hidden] { display: none !important; }` so we also need the `!important` here to be able to override the default hidden behavior on the sphinx rendered scikit-learn.org. See: https://github.com/scikit-learn/scikit-learn/issues/21755 */display: inline-block !important;position: relative;}#sk-container-id-9 div.sk-text-repr-fallback {display: none;}</style><div id=\"sk-container-id-9\" class=\"sk-top-container\"><div class=\"sk-text-repr-fallback\"><pre>XGBRegressor(base_score=None, booster=None, callbacks=None,\n",
       "             colsample_bylevel=None, colsample_bynode=None,\n",
       "             colsample_bytree=None, early_stopping_rounds=None,\n",
       "             enable_categorical=False, eval_metric=None, feature_types=None,\n",
       "             gamma=None, gpu_id=None, grow_policy=None, importance_type=None,\n",
       "             interaction_constraints=None, learning_rate=0.1, max_bin=None,\n",
       "             max_cat_threshold=None, max_cat_to_onehot=None,\n",
       "             max_delta_step=None, max_depth=7, max_leaves=None,\n",
       "             min_child_weight=None, missing=nan, monotone_constraints=None,\n",
       "             n_estimators=10000, n_jobs=-1, num_parallel_tree=None,\n",
       "             predictor=None, random_state=None, ...)</pre><b>In a Jupyter environment, please rerun this cell to show the HTML representation or trust the notebook. <br />On GitHub, the HTML representation is unable to render, please try loading this page with nbviewer.org.</b></div><div class=\"sk-container\" hidden><div class=\"sk-item\"><div class=\"sk-estimator sk-toggleable\"><input class=\"sk-toggleable__control sk-hidden--visually\" id=\"sk-estimator-id-11\" type=\"checkbox\" checked><label for=\"sk-estimator-id-11\" class=\"sk-toggleable__label sk-toggleable__label-arrow\">XGBRegressor</label><div class=\"sk-toggleable__content\"><pre>XGBRegressor(base_score=None, booster=None, callbacks=None,\n",
       "             colsample_bylevel=None, colsample_bynode=None,\n",
       "             colsample_bytree=None, early_stopping_rounds=None,\n",
       "             enable_categorical=False, eval_metric=None, feature_types=None,\n",
       "             gamma=None, gpu_id=None, grow_policy=None, importance_type=None,\n",
       "             interaction_constraints=None, learning_rate=0.1, max_bin=None,\n",
       "             max_cat_threshold=None, max_cat_to_onehot=None,\n",
       "             max_delta_step=None, max_depth=7, max_leaves=None,\n",
       "             min_child_weight=None, missing=nan, monotone_constraints=None,\n",
       "             n_estimators=10000, n_jobs=-1, num_parallel_tree=None,\n",
       "             predictor=None, random_state=None, ...)</pre></div></div></div></div></div>"
      ],
      "text/plain": [
       "XGBRegressor(base_score=None, booster=None, callbacks=None,\n",
       "             colsample_bylevel=None, colsample_bynode=None,\n",
       "             colsample_bytree=None, early_stopping_rounds=None,\n",
       "             enable_categorical=False, eval_metric=None, feature_types=None,\n",
       "             gamma=None, gpu_id=None, grow_policy=None, importance_type=None,\n",
       "             interaction_constraints=None, learning_rate=0.1, max_bin=None,\n",
       "             max_cat_threshold=None, max_cat_to_onehot=None,\n",
       "             max_delta_step=None, max_depth=7, max_leaves=None,\n",
       "             min_child_weight=None, missing=nan, monotone_constraints=None,\n",
       "             n_estimators=10000, n_jobs=-1, num_parallel_tree=None,\n",
       "             predictor=None, random_state=None, ...)"
      ]
     },
     "execution_count": 104,
     "metadata": {},
     "output_type": "execute_result"
    }
   ],
   "source": [
    "xgb_regressor.fit(x_train, y_train)"
   ]
  },
  {
   "cell_type": "code",
   "execution_count": 105,
   "id": "bffa7e57",
   "metadata": {
    "scrolled": true
   },
   "outputs": [
    {
     "data": {
      "text/plain": [
       "0.6639045784062503"
      ]
     },
     "execution_count": 105,
     "metadata": {},
     "output_type": "execute_result"
    }
   ],
   "source": [
    "r2_score(y_test,xgb_regressor.predict(x_test) )"
   ]
  },
  {
   "cell_type": "markdown",
   "id": "0b9619c7",
   "metadata": {},
   "source": [
    "* XG boost is giving the highest r2 score. Hence we will use XGBRegressor as the final model"
   ]
  },
  {
   "cell_type": "markdown",
   "id": "501fc3ff",
   "metadata": {},
   "source": [
    "# Final Questions"
   ]
  },
  {
   "cell_type": "markdown",
   "id": "21588b56",
   "metadata": {},
   "source": [
    "### 1. Your views about the problem statement?\n",
    "The problem statement is well-defined and addresses a real-world scenario where TechWorks Consulting needs to predict employee salaries. It also provides the regression task which would result in fair compensation to IT professionals. By using machine learning to determine salary, TechWorks Consulting can leverage historical data and various employee attributes to make informed, data-driven decisions. \n"
   ]
  },
  {
   "cell_type": "markdown",
   "id": "9d467b65",
   "metadata": {},
   "source": [
    "### 2. What will be your approach to solving this task?\n",
    "My approach to solve the provided task will inlcude following steps:\n",
    "* Importing data\n",
    "* Data Exploration\n",
    "* Preprocessing (outlier treatment, missing value imputation, dummy variable creation, Bi- variate analysis)\n",
    "* Using simple models and trying to improve them\n",
    "* Using ensemble methods and improving results\n"
   ]
  },
  {
   "cell_type": "markdown",
   "id": "38d499f6",
   "metadata": {},
   "source": [
    "### 3. What were the available ML model options you had to perform this task?\n",
    "Available options to solve the given task are:\n",
    "* Linear Regression\n",
    "* Ridge and Lasso\n",
    "* Regression Trees\n",
    "* Bagging\n",
    "* Boosting (Gradient, Ada, XGboost)\n",
    "* Random Forest"
   ]
  },
  {
   "cell_type": "markdown",
   "id": "0d108940",
   "metadata": {},
   "source": [
    "### 4. Which model’s performance is best and what could be the possible reason for that?\n",
    "XGBoost showed the best performance. The reasons the same can be as follows:\n",
    "* Regularization Techniques: XGBoost provides options for regularization techniques like L1 (Lasso) and L2 (Ridge) regularization. These techniques help prevent overfitting, which is crucial when dealing with datasets that may have noise or outliers.\n",
    "* Feature Importance: XGBoost can calculate feature importance scores, which indicate the contribution of each feature to the model's predictions. This helps in understanding which employee attributes are most influential in determining salary. TechWorks Consulting can use this information for decision-making and transparency.\n"
   ]
  },
  {
   "cell_type": "markdown",
   "id": "742ec228",
   "metadata": {},
   "source": [
    "### 5. What steps can you take to improve this selected model’s performance even further?\n",
    "To improve the models performance we use following steps:\n",
    "* Tuning Hyperparameters\n",
    "* Using Ridge and Lasso to prevent overfitting\n",
    "* Using validation curve to find the best Lamda\n",
    "* Using ensemble techniques like bagging boosting and random forest\n",
    "* Using Grid search"
   ]
  }
 ],
 "metadata": {
  "kernelspec": {
   "display_name": "Python 3 (ipykernel)",
   "language": "python",
   "name": "python3"
  },
  "language_info": {
   "codemirror_mode": {
    "name": "ipython",
    "version": 3
   },
   "file_extension": ".py",
   "mimetype": "text/x-python",
   "name": "python",
   "nbconvert_exporter": "python",
   "pygments_lexer": "ipython3",
   "version": "3.11.3"
  }
 },
 "nbformat": 4,
 "nbformat_minor": 5
}
